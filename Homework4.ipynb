{
 "cells": [
  {
   "cell_type": "code",
   "execution_count": null,
   "metadata": {},
   "outputs": [],
   "source": [
    "#Домашняя работа 4 ФИО:Михайлова Ксения"
   ]
  },
  {
   "cell_type": "code",
   "execution_count": null,
   "metadata": {},
   "outputs": [],
   "source": [
    "#1"
   ]
  },
  {
   "cell_type": "code",
   "execution_count": 34,
   "metadata": {},
   "outputs": [],
   "source": [
    "import datetime"
   ]
  },
  {
   "cell_type": "code",
   "execution_count": 35,
   "metadata": {},
   "outputs": [],
   "source": [
    "from datetime import datetime"
   ]
  },
  {
   "cell_type": "code",
   "execution_count": 36,
   "metadata": {},
   "outputs": [],
   "source": [
    "from datetime import timedelta"
   ]
  },
  {
   "cell_type": "code",
   "execution_count": 37,
   "metadata": {},
   "outputs": [],
   "source": [
    "def data_range(start_date, end_date): #функция возвращает список дней между датами\n",
    "    dates = []\n",
    "    start_date_dt = datetime.strptime(start_date, '%Y-%m-%d')\n",
    "    end_date_dt = datetime.strptime(end_date, '%Y-%m-%d')\n",
    "    current_dt = start_date_dt\n",
    "    current_dt += timedelta(days=1)\n",
    "    \n",
    "    while current_dt < end_date_dt:\n",
    "        dates.append(current_dt.strftime('%Y-%m-%d'))\n",
    "        current_dt += timedelta(days=1)\n",
    "    return dates    "
   ]
  },
  {
   "cell_type": "code",
   "execution_count": 38,
   "metadata": {},
   "outputs": [
    {
     "data": {
      "text/plain": [
       "['2018-08-02',\n",
       " '2018-08-03',\n",
       " '2018-08-04',\n",
       " '2018-08-05',\n",
       " '2018-08-06',\n",
       " '2018-08-07',\n",
       " '2018-08-08',\n",
       " '2018-08-09',\n",
       " '2018-08-10',\n",
       " '2018-08-11']"
      ]
     },
     "execution_count": 38,
     "metadata": {},
     "output_type": "execute_result"
    }
   ],
   "source": [
    "data_range('2018-08-01', '2018-08-12')"
   ]
  },
  {
   "cell_type": "code",
   "execution_count": null,
   "metadata": {},
   "outputs": [],
   "source": [
    "#2"
   ]
  },
  {
   "cell_type": "code",
   "execution_count": 39,
   "metadata": {},
   "outputs": [],
   "source": [
    " def data_range2(start_date, end_date): #функция возвращает список дней между датами\n",
    "    dates = []\n",
    "    error = False\n",
    "    try:\n",
    "        # пробуем расшифровать дату в формате '%Y-%m-%d'\n",
    "        date_datetime = datetime.strptime(start_date, '%Y-%m-%d')\n",
    "\n",
    "    except ValueError:\n",
    "         # неверный формат, возвращает пустой список\n",
    "        return dates\n",
    "        \n",
    "    try:\n",
    "        # пробуем расшифровать дату в формате '%Y-%m-%d'\n",
    "        date_datetime = datetime.strptime(end_date, '%Y-%m-%d')\n",
    "\n",
    "    except ValueError:\n",
    "        #неверный формат, возвращает пустой список\n",
    "        return dates   \n",
    "    \n",
    "    if start_date > end_date:\n",
    "         # start_date > end_date, возвращает пустой список\n",
    "                           return dates\n",
    "    else:                       \n",
    "            start_date_dt = datetime.strptime(start_date, '%Y-%m-%d')\n",
    "            end_date_dt = datetime.strptime(end_date, '%Y-%m-%d')\n",
    "            current_dt = start_date_dt\n",
    "            current_dt += timedelta(days=1)\n",
    "    \n",
    "            while current_dt < end_date_dt:\n",
    "                  dates.append(current_dt.strftime('%Y-%m-%d'))\n",
    "                  current_dt += timedelta(days=1)\n",
    "                           \n",
    "    return dates     "
   ]
  },
  {
   "cell_type": "code",
   "execution_count": 40,
   "metadata": {},
   "outputs": [
    {
     "data": {
      "text/plain": [
       "[]"
      ]
     },
     "execution_count": 40,
     "metadata": {},
     "output_type": "execute_result"
    }
   ],
   "source": [
    "data_range2('2018-08-25', '2018-08-12')"
   ]
  },
  {
   "cell_type": "code",
   "execution_count": null,
   "metadata": {},
   "outputs": [],
   "source": [
    "#3"
   ]
  },
  {
   "cell_type": "code",
   "execution_count": 41,
   "metadata": {},
   "outputs": [],
   "source": [
    "stream = ['2018-04-02', '2018-02-29', '2018-19-02']"
   ]
  },
  {
   "cell_type": "code",
   "execution_count": 42,
   "metadata": {},
   "outputs": [],
   "source": [
    "# функция для каждой даты возвращает True (дата корректна) или False (некорректная дата)\n",
    "def check_dates_stream(alist):\n",
    "    for i in alist:\n",
    "            try:\n",
    "               # пробуем расшифровать дату в формате '%Y-%m-%d'\n",
    "                date_datetime = datetime.strptime(i, '%Y-%m-%d')\n",
    "                print(i, True)\n",
    "            except ValueError: # ошибка, дата не корректна\n",
    "                print(i, False)\n"
   ]
  },
  {
   "cell_type": "code",
   "execution_count": 43,
   "metadata": {},
   "outputs": [
    {
     "name": "stdout",
     "output_type": "stream",
     "text": [
      "2018-04-02 True\n",
      "2018-02-29 False\n",
      "2018-19-02 False\n"
     ]
    }
   ],
   "source": [
    "check_dates_stream(stream)"
   ]
  },
  {
   "cell_type": "code",
   "execution_count": null,
   "metadata": {},
   "outputs": [],
   "source": [
    "#4"
   ]
  },
  {
   "cell_type": "code",
   "execution_count": 44,
   "metadata": {},
   "outputs": [],
   "source": [
    "def count_dates(): # функция возвращает список дат с 1 по вчерашний день текущего месяца\n",
    "    today = datetime.today() \n",
    "    current_date = today.strftime('%Y-%m-%d')\n",
    "    end_date_dt = datetime.strptime(current_date, '%Y-%m-%d')\n",
    "    end_date_dt += timedelta(days=-1) #  \n",
    "    \n",
    "    dates = []\n",
    "    #\n",
    "    tmp = today.day\n",
    "    if tmp != 1:\n",
    "        tmp = tmp - 1\n",
    "        start_date_dt = datetime.strptime(current_date, '%Y-%m-%d')\n",
    "        start_date_dt += timedelta(days=-tmp) \n",
    "    else:\n",
    "        tmp = end_date_dt.day\n",
    "        tmp = tmp - 1\n",
    "        start_date_dt = datetime.strptime(current_date, '%Y-%m-%d')\n",
    "        start_date_dt += timedelta(days=-tmp) \n",
    "    #    \n",
    "    while start_date_dt <= end_date_dt:\n",
    "        dates.append(start_date_dt.strftime('%Y-%m-%d'))\n",
    "        start_date_dt += timedelta(days=1)\n",
    "    return dates "
   ]
  },
  {
   "cell_type": "code",
   "execution_count": 45,
   "metadata": {},
   "outputs": [
    {
     "data": {
      "text/plain": [
       "['2018-09-01',\n",
       " '2018-09-02',\n",
       " '2018-09-03',\n",
       " '2018-09-04',\n",
       " '2018-09-05',\n",
       " '2018-09-06',\n",
       " '2018-09-07',\n",
       " '2018-09-08',\n",
       " '2018-09-09',\n",
       " '2018-09-10',\n",
       " '2018-09-11',\n",
       " '2018-09-12',\n",
       " '2018-09-13',\n",
       " '2018-09-14',\n",
       " '2018-09-15']"
      ]
     },
     "execution_count": 45,
     "metadata": {},
     "output_type": "execute_result"
    }
   ],
   "source": [
    "count_dates()"
   ]
  },
  {
   "cell_type": "code",
   "execution_count": null,
   "metadata": {},
   "outputs": [],
   "source": [
    "#5"
   ]
  },
  {
   "cell_type": "code",
   "execution_count": 46,
   "metadata": {},
   "outputs": [],
   "source": [
    "def what_a_date(word): # \n",
    "    today = datetime.today()\n",
    "    current_date = today.strftime('%Y-%m-%d')\n",
    "    if word == 'today': #                \n",
    "        print(current_date)\n",
    "    elif word == 'last monday':  # \n",
    "        tmp = today.weekday()\n",
    "        monday_dt = datetime.strptime(current_date, '%Y-%m-%d')\n",
    "        monday_dt += timedelta(days=-tmp) \n",
    "        monday = monday_dt.strftime('%Y-%m-%d')\n",
    "        print(monday)\n",
    "    elif word == 'last day': #\n",
    "        day = today.day\n",
    "        month = today.month\n",
    "        year = today.year\n",
    "        dt = today.replace(month=today.month+1, day=1) - timedelta(days=1)\n",
    "        last_day = dt.strftime('%Y-%m-%d')\n",
    "        print(last_day)\n",
    "    else: #\n",
    "        print('Wrong parameter')"
   ]
  },
  {
   "cell_type": "code",
   "execution_count": 47,
   "metadata": {},
   "outputs": [
    {
     "name": "stdout",
     "output_type": "stream",
     "text": [
      "2018-09-10\n"
     ]
    }
   ],
   "source": [
    "what_a_date('last monday')"
   ]
  },
  {
   "cell_type": "code",
   "execution_count": null,
   "metadata": {},
   "outputs": [],
   "source": [
    "#6"
   ]
  },
  {
   "cell_type": "code",
   "execution_count": 48,
   "metadata": {},
   "outputs": [],
   "source": [
    "def days_of_weeks(start_date, end_date): \n",
    "    #функция разбивает на недели с понедельника по воскресенье интервал дат между start_date и end_date\n",
    "    dates = [] \n",
    "    weeks_dates = [] # список по неделе\n",
    "    count_weeks = 0 # счетчик недель\n",
    "    \n",
    "    start_date_dt = datetime.strptime(start_date, '%Y-%m-%d')\n",
    "    end_date_dt = datetime.strptime(end_date, '%Y-%m-%d')\n",
    "    current_dt = start_date_dt\n",
    "    current_dt += timedelta(days=1)\n",
    "    \n",
    "    while current_dt < end_date_dt:\n",
    "        if count_weeks == 0 and current_dt.weekday() == 0:\n",
    "                    weeks_dates.append(current_dt.strftime('%Y-%m-%d'))\n",
    "                    count_weeks = count_weeks + 1\n",
    "        elif count_weeks == current_dt.weekday():\n",
    "                    weeks_dates.append(current_dt.strftime('%Y-%m-%d'))\n",
    "                    count_weeks = count_weeks + 1\n",
    "              \n",
    "        if count_weeks == 7: #неделя полная, добавляем в результат, сбрасываем счетчик и список недели\n",
    "            dates.append(weeks_dates)\n",
    "            weeks_dates = []\n",
    "            count_weeks = 0\n",
    "            \n",
    "        current_dt += timedelta(days=1)\n",
    "         \n",
    "    return dates  "
   ]
  },
  {
   "cell_type": "code",
   "execution_count": 49,
   "metadata": {},
   "outputs": [
    {
     "data": {
      "text/plain": [
       "[['2018-08-06',\n",
       "  '2018-08-07',\n",
       "  '2018-08-08',\n",
       "  '2018-08-09',\n",
       "  '2018-08-10',\n",
       "  '2018-08-11',\n",
       "  '2018-08-12'],\n",
       " ['2018-08-13',\n",
       "  '2018-08-14',\n",
       "  '2018-08-15',\n",
       "  '2018-08-16',\n",
       "  '2018-08-17',\n",
       "  '2018-08-18',\n",
       "  '2018-08-19'],\n",
       " ['2018-08-20',\n",
       "  '2018-08-21',\n",
       "  '2018-08-22',\n",
       "  '2018-08-23',\n",
       "  '2018-08-24',\n",
       "  '2018-08-25',\n",
       "  '2018-08-26']]"
      ]
     },
     "execution_count": 49,
     "metadata": {},
     "output_type": "execute_result"
    }
   ],
   "source": [
    "days_of_weeks('2018-08-01', '2018-08-30')"
   ]
  },
  {
   "cell_type": "code",
   "execution_count": null,
   "metadata": {},
   "outputs": [],
   "source": []
  }
 ],
 "metadata": {
  "kernelspec": {
   "display_name": "Python 3",
   "language": "python",
   "name": "python3"
  },
  "language_info": {
   "codemirror_mode": {
    "name": "ipython",
    "version": 3
   },
   "file_extension": ".py",
   "mimetype": "text/x-python",
   "name": "python",
   "nbconvert_exporter": "python",
   "pygments_lexer": "ipython3",
   "version": "3.6.6"
  }
 },
 "nbformat": 4,
 "nbformat_minor": 2
}
