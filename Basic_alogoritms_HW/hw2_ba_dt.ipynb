{
 "cells": [
  {
   "cell_type": "markdown",
   "metadata": {},
   "source": [
    "# Титаник. Кто выживет?"
   ]
  },
  {
   "cell_type": "code",
   "execution_count": null,
   "metadata": {},
   "outputs": [],
   "source": [
    "#Оставила часть с подготовкой данных"
   ]
  },
  {
   "cell_type": "markdown",
   "metadata": {},
   "source": [
    "https://www.kaggle.com/c/titanic/"
   ]
  },
  {
   "cell_type": "code",
   "execution_count": 1,
   "metadata": {},
   "outputs": [],
   "source": [
    "import numpy as np\n",
    "import pandas as pd"
   ]
  },
  {
   "cell_type": "code",
   "execution_count": 2,
   "metadata": {},
   "outputs": [],
   "source": [
    "from matplotlib import pyplot as plt\n",
    "%matplotlib inline\n",
    "import seaborn as sns\n",
    "\n",
    "%config InlineBackend.figure_format = 'retina'\n",
    "from pylab import rcParams\n",
    "rcParams['figure.figsize'] = (9, 6)"
   ]
  },
  {
   "cell_type": "markdown",
   "metadata": {},
   "source": [
    "### Данные"
   ]
  },
  {
   "cell_type": "code",
   "execution_count": 3,
   "metadata": {},
   "outputs": [],
   "source": [
    "train = pd.read_csv('titanic/train.csv')\n",
    "test = pd.read_csv('titanic/test.csv')"
   ]
  },
  {
   "cell_type": "code",
   "execution_count": 4,
   "metadata": {
    "scrolled": true
   },
   "outputs": [
    {
     "data": {
      "text/html": [
       "<div>\n",
       "<style scoped>\n",
       "    .dataframe tbody tr th:only-of-type {\n",
       "        vertical-align: middle;\n",
       "    }\n",
       "\n",
       "    .dataframe tbody tr th {\n",
       "        vertical-align: top;\n",
       "    }\n",
       "\n",
       "    .dataframe thead th {\n",
       "        text-align: right;\n",
       "    }\n",
       "</style>\n",
       "<table border=\"1\" class=\"dataframe\">\n",
       "  <thead>\n",
       "    <tr style=\"text-align: right;\">\n",
       "      <th></th>\n",
       "      <th>PassengerId</th>\n",
       "      <th>Survived</th>\n",
       "      <th>Pclass</th>\n",
       "      <th>Name</th>\n",
       "      <th>Sex</th>\n",
       "      <th>Age</th>\n",
       "      <th>SibSp</th>\n",
       "      <th>Parch</th>\n",
       "      <th>Ticket</th>\n",
       "      <th>Fare</th>\n",
       "      <th>Cabin</th>\n",
       "      <th>Embarked</th>\n",
       "    </tr>\n",
       "  </thead>\n",
       "  <tbody>\n",
       "    <tr>\n",
       "      <th>0</th>\n",
       "      <td>1</td>\n",
       "      <td>0</td>\n",
       "      <td>3</td>\n",
       "      <td>Braund, Mr. Owen Harris</td>\n",
       "      <td>male</td>\n",
       "      <td>22.0</td>\n",
       "      <td>1</td>\n",
       "      <td>0</td>\n",
       "      <td>A/5 21171</td>\n",
       "      <td>7.2500</td>\n",
       "      <td>NaN</td>\n",
       "      <td>S</td>\n",
       "    </tr>\n",
       "    <tr>\n",
       "      <th>1</th>\n",
       "      <td>2</td>\n",
       "      <td>1</td>\n",
       "      <td>1</td>\n",
       "      <td>Cumings, Mrs. John Bradley (Florence Briggs Th...</td>\n",
       "      <td>female</td>\n",
       "      <td>38.0</td>\n",
       "      <td>1</td>\n",
       "      <td>0</td>\n",
       "      <td>PC 17599</td>\n",
       "      <td>71.2833</td>\n",
       "      <td>C85</td>\n",
       "      <td>C</td>\n",
       "    </tr>\n",
       "    <tr>\n",
       "      <th>2</th>\n",
       "      <td>3</td>\n",
       "      <td>1</td>\n",
       "      <td>3</td>\n",
       "      <td>Heikkinen, Miss. Laina</td>\n",
       "      <td>female</td>\n",
       "      <td>26.0</td>\n",
       "      <td>0</td>\n",
       "      <td>0</td>\n",
       "      <td>STON/O2. 3101282</td>\n",
       "      <td>7.9250</td>\n",
       "      <td>NaN</td>\n",
       "      <td>S</td>\n",
       "    </tr>\n",
       "    <tr>\n",
       "      <th>3</th>\n",
       "      <td>4</td>\n",
       "      <td>1</td>\n",
       "      <td>1</td>\n",
       "      <td>Futrelle, Mrs. Jacques Heath (Lily May Peel)</td>\n",
       "      <td>female</td>\n",
       "      <td>35.0</td>\n",
       "      <td>1</td>\n",
       "      <td>0</td>\n",
       "      <td>113803</td>\n",
       "      <td>53.1000</td>\n",
       "      <td>C123</td>\n",
       "      <td>S</td>\n",
       "    </tr>\n",
       "    <tr>\n",
       "      <th>4</th>\n",
       "      <td>5</td>\n",
       "      <td>0</td>\n",
       "      <td>3</td>\n",
       "      <td>Allen, Mr. William Henry</td>\n",
       "      <td>male</td>\n",
       "      <td>35.0</td>\n",
       "      <td>0</td>\n",
       "      <td>0</td>\n",
       "      <td>373450</td>\n",
       "      <td>8.0500</td>\n",
       "      <td>NaN</td>\n",
       "      <td>S</td>\n",
       "    </tr>\n",
       "  </tbody>\n",
       "</table>\n",
       "</div>"
      ],
      "text/plain": [
       "   PassengerId  Survived  Pclass  \\\n",
       "0            1         0       3   \n",
       "1            2         1       1   \n",
       "2            3         1       3   \n",
       "3            4         1       1   \n",
       "4            5         0       3   \n",
       "\n",
       "                                                Name     Sex   Age  SibSp  \\\n",
       "0                            Braund, Mr. Owen Harris    male  22.0      1   \n",
       "1  Cumings, Mrs. John Bradley (Florence Briggs Th...  female  38.0      1   \n",
       "2                             Heikkinen, Miss. Laina  female  26.0      0   \n",
       "3       Futrelle, Mrs. Jacques Heath (Lily May Peel)  female  35.0      1   \n",
       "4                           Allen, Mr. William Henry    male  35.0      0   \n",
       "\n",
       "   Parch            Ticket     Fare Cabin Embarked  \n",
       "0      0         A/5 21171   7.2500   NaN        S  \n",
       "1      0          PC 17599  71.2833   C85        C  \n",
       "2      0  STON/O2. 3101282   7.9250   NaN        S  \n",
       "3      0            113803  53.1000  C123        S  \n",
       "4      0            373450   8.0500   NaN        S  "
      ]
     },
     "execution_count": 4,
     "metadata": {},
     "output_type": "execute_result"
    }
   ],
   "source": [
    "train.head()"
   ]
  },
  {
   "cell_type": "code",
   "execution_count": 5,
   "metadata": {
    "scrolled": true
   },
   "outputs": [
    {
     "data": {
      "text/html": [
       "<div>\n",
       "<style scoped>\n",
       "    .dataframe tbody tr th:only-of-type {\n",
       "        vertical-align: middle;\n",
       "    }\n",
       "\n",
       "    .dataframe tbody tr th {\n",
       "        vertical-align: top;\n",
       "    }\n",
       "\n",
       "    .dataframe thead th {\n",
       "        text-align: right;\n",
       "    }\n",
       "</style>\n",
       "<table border=\"1\" class=\"dataframe\">\n",
       "  <thead>\n",
       "    <tr style=\"text-align: right;\">\n",
       "      <th></th>\n",
       "      <th>PassengerId</th>\n",
       "      <th>Pclass</th>\n",
       "      <th>Name</th>\n",
       "      <th>Sex</th>\n",
       "      <th>Age</th>\n",
       "      <th>SibSp</th>\n",
       "      <th>Parch</th>\n",
       "      <th>Ticket</th>\n",
       "      <th>Fare</th>\n",
       "      <th>Cabin</th>\n",
       "      <th>Embarked</th>\n",
       "    </tr>\n",
       "  </thead>\n",
       "  <tbody>\n",
       "    <tr>\n",
       "      <th>0</th>\n",
       "      <td>892</td>\n",
       "      <td>3</td>\n",
       "      <td>Kelly, Mr. James</td>\n",
       "      <td>male</td>\n",
       "      <td>34.5</td>\n",
       "      <td>0</td>\n",
       "      <td>0</td>\n",
       "      <td>330911</td>\n",
       "      <td>7.8292</td>\n",
       "      <td>NaN</td>\n",
       "      <td>Q</td>\n",
       "    </tr>\n",
       "    <tr>\n",
       "      <th>1</th>\n",
       "      <td>893</td>\n",
       "      <td>3</td>\n",
       "      <td>Wilkes, Mrs. James (Ellen Needs)</td>\n",
       "      <td>female</td>\n",
       "      <td>47.0</td>\n",
       "      <td>1</td>\n",
       "      <td>0</td>\n",
       "      <td>363272</td>\n",
       "      <td>7.0000</td>\n",
       "      <td>NaN</td>\n",
       "      <td>S</td>\n",
       "    </tr>\n",
       "    <tr>\n",
       "      <th>2</th>\n",
       "      <td>894</td>\n",
       "      <td>2</td>\n",
       "      <td>Myles, Mr. Thomas Francis</td>\n",
       "      <td>male</td>\n",
       "      <td>62.0</td>\n",
       "      <td>0</td>\n",
       "      <td>0</td>\n",
       "      <td>240276</td>\n",
       "      <td>9.6875</td>\n",
       "      <td>NaN</td>\n",
       "      <td>Q</td>\n",
       "    </tr>\n",
       "    <tr>\n",
       "      <th>3</th>\n",
       "      <td>895</td>\n",
       "      <td>3</td>\n",
       "      <td>Wirz, Mr. Albert</td>\n",
       "      <td>male</td>\n",
       "      <td>27.0</td>\n",
       "      <td>0</td>\n",
       "      <td>0</td>\n",
       "      <td>315154</td>\n",
       "      <td>8.6625</td>\n",
       "      <td>NaN</td>\n",
       "      <td>S</td>\n",
       "    </tr>\n",
       "    <tr>\n",
       "      <th>4</th>\n",
       "      <td>896</td>\n",
       "      <td>3</td>\n",
       "      <td>Hirvonen, Mrs. Alexander (Helga E Lindqvist)</td>\n",
       "      <td>female</td>\n",
       "      <td>22.0</td>\n",
       "      <td>1</td>\n",
       "      <td>1</td>\n",
       "      <td>3101298</td>\n",
       "      <td>12.2875</td>\n",
       "      <td>NaN</td>\n",
       "      <td>S</td>\n",
       "    </tr>\n",
       "  </tbody>\n",
       "</table>\n",
       "</div>"
      ],
      "text/plain": [
       "   PassengerId  Pclass                                          Name     Sex  \\\n",
       "0          892       3                              Kelly, Mr. James    male   \n",
       "1          893       3              Wilkes, Mrs. James (Ellen Needs)  female   \n",
       "2          894       2                     Myles, Mr. Thomas Francis    male   \n",
       "3          895       3                              Wirz, Mr. Albert    male   \n",
       "4          896       3  Hirvonen, Mrs. Alexander (Helga E Lindqvist)  female   \n",
       "\n",
       "    Age  SibSp  Parch   Ticket     Fare Cabin Embarked  \n",
       "0  34.5      0      0   330911   7.8292   NaN        Q  \n",
       "1  47.0      1      0   363272   7.0000   NaN        S  \n",
       "2  62.0      0      0   240276   9.6875   NaN        Q  \n",
       "3  27.0      0      0   315154   8.6625   NaN        S  \n",
       "4  22.0      1      1  3101298  12.2875   NaN        S  "
      ]
     },
     "execution_count": 5,
     "metadata": {},
     "output_type": "execute_result"
    }
   ],
   "source": [
    "test.head()"
   ]
  },
  {
   "cell_type": "code",
   "execution_count": 6,
   "metadata": {},
   "outputs": [
    {
     "name": "stdout",
     "output_type": "stream",
     "text": [
      "<class 'pandas.core.frame.DataFrame'>\n",
      "RangeIndex: 891 entries, 0 to 890\n",
      "Data columns (total 12 columns):\n",
      "PassengerId    891 non-null int64\n",
      "Survived       891 non-null int64\n",
      "Pclass         891 non-null int64\n",
      "Name           891 non-null object\n",
      "Sex            891 non-null object\n",
      "Age            714 non-null float64\n",
      "SibSp          891 non-null int64\n",
      "Parch          891 non-null int64\n",
      "Ticket         891 non-null object\n",
      "Fare           891 non-null float64\n",
      "Cabin          204 non-null object\n",
      "Embarked       889 non-null object\n",
      "dtypes: float64(2), int64(5), object(5)\n",
      "memory usage: 83.6+ KB\n"
     ]
    }
   ],
   "source": [
    "train.info()"
   ]
  },
  {
   "cell_type": "markdown",
   "metadata": {},
   "source": [
    "# EDA"
   ]
  },
  {
   "cell_type": "code",
   "execution_count": 7,
   "metadata": {},
   "outputs": [
    {
     "data": {
      "text/plain": [
       "Index(['PassengerId', 'Survived', 'Pclass', 'Name', 'Sex', 'Age', 'SibSp',\n",
       "       'Parch', 'Ticket', 'Fare', 'Cabin', 'Embarked'],\n",
       "      dtype='object')"
      ]
     },
     "execution_count": 7,
     "metadata": {},
     "output_type": "execute_result"
    }
   ],
   "source": [
    "train.columns"
   ]
  },
  {
   "cell_type": "code",
   "execution_count": 8,
   "metadata": {},
   "outputs": [
    {
     "data": {
      "text/plain": [
       "male      577\n",
       "female    314\n",
       "Name: Sex, dtype: int64"
      ]
     },
     "execution_count": 8,
     "metadata": {},
     "output_type": "execute_result"
    }
   ],
   "source": [
    "train.Sex.value_counts(dropna=False)"
   ]
  },
  {
   "cell_type": "code",
   "execution_count": 9,
   "metadata": {},
   "outputs": [],
   "source": [
    "sns.boxplot?"
   ]
  },
  {
   "cell_type": "code",
   "execution_count": 10,
   "metadata": {},
   "outputs": [
    {
     "data": {
      "text/plain": [
       "<matplotlib.axes._subplots.AxesSubplot at 0x1a221600f0>"
      ]
     },
     "execution_count": 10,
     "metadata": {},
     "output_type": "execute_result"
    },
    {
     "data": {
      "image/png": "[encoded data removed]",
      "text/plain": [
       "<Figure size 432x288 with 1 Axes>"
      ]
     },
     "metadata": {
      "image/png": {
       "height": 263,
       "width": 406
      },
      "needs_background": "light"
     },
     "output_type": "display_data"
    }
   ],
   "source": [
    "sns.boxplot(data=train, x='Fare', y='Sex')"
   ]
  },
  {
   "cell_type": "code",
   "execution_count": 11,
   "metadata": {},
   "outputs": [
    {
     "data": {
      "text/plain": [
       "Sex     Pclass\n",
       "female  3         0.458599\n",
       "        1         0.299363\n",
       "        2         0.242038\n",
       "male    3         0.601386\n",
       "        1         0.211438\n",
       "        2         0.187175\n",
       "Name: Pclass, dtype: float64"
      ]
     },
     "execution_count": 11,
     "metadata": {},
     "output_type": "execute_result"
    }
   ],
   "source": [
    "train.groupby('Sex')['Pclass'].value_counts(normalize=True)"
   ]
  },
  {
   "cell_type": "markdown",
   "metadata": {},
   "source": [
    "### Фичи"
   ]
  },
  {
   "cell_type": "markdown",
   "metadata": {},
   "source": [
    "чтобы одинаковым образом обработать train и test и не дублировать все операции 2 раза, соединим эти два набора данных в один, не забыв при этом:\n",
    "1. выкинуть целевую переменную из train\n",
    "2. проверить на соответствие набора признаков друг другу\n",
    "3. добавить флаг того, является ли объект тестовым или нет"
   ]
  },
  {
   "cell_type": "code",
   "execution_count": 12,
   "metadata": {},
   "outputs": [],
   "source": [
    "y_train = train.Survived\n",
    "train.drop('Survived', axis=1, inplace=True)"
   ]
  },
  {
   "cell_type": "code",
   "execution_count": 13,
   "metadata": {},
   "outputs": [
    {
     "data": {
      "text/plain": [
       "array([ True,  True,  True,  True,  True,  True,  True,  True,  True,\n",
       "        True,  True])"
      ]
     },
     "execution_count": 13,
     "metadata": {},
     "output_type": "execute_result"
    }
   ],
   "source": [
    "train.columns == test.columns"
   ]
  },
  {
   "cell_type": "code",
   "execution_count": 14,
   "metadata": {},
   "outputs": [],
   "source": [
    "train['is_test'] = 0\n",
    "test['is_test'] = 1"
   ]
  },
  {
   "cell_type": "code",
   "execution_count": 15,
   "metadata": {},
   "outputs": [],
   "source": [
    "df = pd.concat([train, test])"
   ]
  },
  {
   "cell_type": "markdown",
   "metadata": {},
   "source": [
    "супер, теперь полный набор данных можно обрабатывать вместе и в любой момент, уже обработанными, обратно разъединить на обучающую и тестовую выборки"
   ]
  },
  {
   "cell_type": "markdown",
   "metadata": {},
   "source": [
    "Пол male/female закодируем в 1/0 и удалим переменные, с которыми мы не будем сейчас работать"
   ]
  },
  {
   "cell_type": "code",
   "execution_count": 16,
   "metadata": {},
   "outputs": [],
   "source": [
    "df[\"isMale\"] = df.Sex.replace({\"male\": 1, \"female\":0})\n",
    "df.drop([\"Sex\", \"Cabin\", \"Ticket\", \"Name\", \"PassengerId\"], axis=1, inplace=True)"
   ]
  },
  {
   "cell_type": "markdown",
   "metadata": {},
   "source": [
    "признаки, значения которых составляют небольшой перечислимый набор, закодируем в отдельные столбцы "
   ]
  },
  {
   "cell_type": "code",
   "execution_count": 17,
   "metadata": {},
   "outputs": [
    {
     "data": {
      "text/plain": [
       "3    709\n",
       "1    323\n",
       "2    277\n",
       "Name: Pclass, dtype: int64"
      ]
     },
     "execution_count": 17,
     "metadata": {},
     "output_type": "execute_result"
    }
   ],
   "source": [
    "df.Pclass.value_counts()"
   ]
  },
  {
   "cell_type": "code",
   "execution_count": 18,
   "metadata": {},
   "outputs": [],
   "source": [
    "df_dummies = pd.get_dummies(df, columns=['Pclass', 'Embarked'])"
   ]
  },
  {
   "cell_type": "code",
   "execution_count": 19,
   "metadata": {},
   "outputs": [
    {
     "data": {
      "text/html": [
       "<div>\n",
       "<style scoped>\n",
       "    .dataframe tbody tr th:only-of-type {\n",
       "        vertical-align: middle;\n",
       "    }\n",
       "\n",
       "    .dataframe tbody tr th {\n",
       "        vertical-align: top;\n",
       "    }\n",
       "\n",
       "    .dataframe thead th {\n",
       "        text-align: right;\n",
       "    }\n",
       "</style>\n",
       "<table border=\"1\" class=\"dataframe\">\n",
       "  <thead>\n",
       "    <tr style=\"text-align: right;\">\n",
       "      <th></th>\n",
       "      <th>Age</th>\n",
       "      <th>SibSp</th>\n",
       "      <th>Parch</th>\n",
       "      <th>Fare</th>\n",
       "      <th>is_test</th>\n",
       "      <th>isMale</th>\n",
       "      <th>Pclass_1</th>\n",
       "      <th>Pclass_2</th>\n",
       "      <th>Pclass_3</th>\n",
       "      <th>Embarked_C</th>\n",
       "      <th>Embarked_Q</th>\n",
       "      <th>Embarked_S</th>\n",
       "    </tr>\n",
       "  </thead>\n",
       "  <tbody>\n",
       "    <tr>\n",
       "      <th>0</th>\n",
       "      <td>22.0</td>\n",
       "      <td>1</td>\n",
       "      <td>0</td>\n",
       "      <td>7.2500</td>\n",
       "      <td>0</td>\n",
       "      <td>1</td>\n",
       "      <td>0</td>\n",
       "      <td>0</td>\n",
       "      <td>1</td>\n",
       "      <td>0</td>\n",
       "      <td>0</td>\n",
       "      <td>1</td>\n",
       "    </tr>\n",
       "    <tr>\n",
       "      <th>1</th>\n",
       "      <td>38.0</td>\n",
       "      <td>1</td>\n",
       "      <td>0</td>\n",
       "      <td>71.2833</td>\n",
       "      <td>0</td>\n",
       "      <td>0</td>\n",
       "      <td>1</td>\n",
       "      <td>0</td>\n",
       "      <td>0</td>\n",
       "      <td>1</td>\n",
       "      <td>0</td>\n",
       "      <td>0</td>\n",
       "    </tr>\n",
       "    <tr>\n",
       "      <th>2</th>\n",
       "      <td>26.0</td>\n",
       "      <td>0</td>\n",
       "      <td>0</td>\n",
       "      <td>7.9250</td>\n",
       "      <td>0</td>\n",
       "      <td>0</td>\n",
       "      <td>0</td>\n",
       "      <td>0</td>\n",
       "      <td>1</td>\n",
       "      <td>0</td>\n",
       "      <td>0</td>\n",
       "      <td>1</td>\n",
       "    </tr>\n",
       "    <tr>\n",
       "      <th>3</th>\n",
       "      <td>35.0</td>\n",
       "      <td>1</td>\n",
       "      <td>0</td>\n",
       "      <td>53.1000</td>\n",
       "      <td>0</td>\n",
       "      <td>0</td>\n",
       "      <td>1</td>\n",
       "      <td>0</td>\n",
       "      <td>0</td>\n",
       "      <td>0</td>\n",
       "      <td>0</td>\n",
       "      <td>1</td>\n",
       "    </tr>\n",
       "    <tr>\n",
       "      <th>4</th>\n",
       "      <td>35.0</td>\n",
       "      <td>0</td>\n",
       "      <td>0</td>\n",
       "      <td>8.0500</td>\n",
       "      <td>0</td>\n",
       "      <td>1</td>\n",
       "      <td>0</td>\n",
       "      <td>0</td>\n",
       "      <td>1</td>\n",
       "      <td>0</td>\n",
       "      <td>0</td>\n",
       "      <td>1</td>\n",
       "    </tr>\n",
       "    <tr>\n",
       "      <th>5</th>\n",
       "      <td>NaN</td>\n",
       "      <td>0</td>\n",
       "      <td>0</td>\n",
       "      <td>8.4583</td>\n",
       "      <td>0</td>\n",
       "      <td>1</td>\n",
       "      <td>0</td>\n",
       "      <td>0</td>\n",
       "      <td>1</td>\n",
       "      <td>0</td>\n",
       "      <td>1</td>\n",
       "      <td>0</td>\n",
       "    </tr>\n",
       "    <tr>\n",
       "      <th>6</th>\n",
       "      <td>54.0</td>\n",
       "      <td>0</td>\n",
       "      <td>0</td>\n",
       "      <td>51.8625</td>\n",
       "      <td>0</td>\n",
       "      <td>1</td>\n",
       "      <td>1</td>\n",
       "      <td>0</td>\n",
       "      <td>0</td>\n",
       "      <td>0</td>\n",
       "      <td>0</td>\n",
       "      <td>1</td>\n",
       "    </tr>\n",
       "    <tr>\n",
       "      <th>7</th>\n",
       "      <td>2.0</td>\n",
       "      <td>3</td>\n",
       "      <td>1</td>\n",
       "      <td>21.0750</td>\n",
       "      <td>0</td>\n",
       "      <td>1</td>\n",
       "      <td>0</td>\n",
       "      <td>0</td>\n",
       "      <td>1</td>\n",
       "      <td>0</td>\n",
       "      <td>0</td>\n",
       "      <td>1</td>\n",
       "    </tr>\n",
       "    <tr>\n",
       "      <th>8</th>\n",
       "      <td>27.0</td>\n",
       "      <td>0</td>\n",
       "      <td>2</td>\n",
       "      <td>11.1333</td>\n",
       "      <td>0</td>\n",
       "      <td>0</td>\n",
       "      <td>0</td>\n",
       "      <td>0</td>\n",
       "      <td>1</td>\n",
       "      <td>0</td>\n",
       "      <td>0</td>\n",
       "      <td>1</td>\n",
       "    </tr>\n",
       "    <tr>\n",
       "      <th>9</th>\n",
       "      <td>14.0</td>\n",
       "      <td>1</td>\n",
       "      <td>0</td>\n",
       "      <td>30.0708</td>\n",
       "      <td>0</td>\n",
       "      <td>0</td>\n",
       "      <td>0</td>\n",
       "      <td>1</td>\n",
       "      <td>0</td>\n",
       "      <td>1</td>\n",
       "      <td>0</td>\n",
       "      <td>0</td>\n",
       "    </tr>\n",
       "  </tbody>\n",
       "</table>\n",
       "</div>"
      ],
      "text/plain": [
       "    Age  SibSp  Parch     Fare  is_test  isMale  Pclass_1  Pclass_2  Pclass_3  \\\n",
       "0  22.0      1      0   7.2500        0       1         0         0         1   \n",
       "1  38.0      1      0  71.2833        0       0         1         0         0   \n",
       "2  26.0      0      0   7.9250        0       0         0         0         1   \n",
       "3  35.0      1      0  53.1000        0       0         1         0         0   \n",
       "4  35.0      0      0   8.0500        0       1         0         0         1   \n",
       "5   NaN      0      0   8.4583        0       1         0         0         1   \n",
       "6  54.0      0      0  51.8625        0       1         1         0         0   \n",
       "7   2.0      3      1  21.0750        0       1         0         0         1   \n",
       "8  27.0      0      2  11.1333        0       0         0         0         1   \n",
       "9  14.0      1      0  30.0708        0       0         0         1         0   \n",
       "\n",
       "   Embarked_C  Embarked_Q  Embarked_S  \n",
       "0           0           0           1  \n",
       "1           1           0           0  \n",
       "2           0           0           1  \n",
       "3           0           0           1  \n",
       "4           0           0           1  \n",
       "5           0           1           0  \n",
       "6           0           0           1  \n",
       "7           0           0           1  \n",
       "8           0           0           1  \n",
       "9           1           0           0  "
      ]
     },
     "execution_count": 19,
     "metadata": {},
     "output_type": "execute_result"
    }
   ],
   "source": [
    "df_dummies.head(10)"
   ]
  },
  {
   "cell_type": "code",
   "execution_count": 20,
   "metadata": {},
   "outputs": [
    {
     "data": {
      "text/plain": [
       "Age           263\n",
       "SibSp           0\n",
       "Parch           0\n",
       "Fare            1\n",
       "is_test         0\n",
       "isMale          0\n",
       "Pclass_1        0\n",
       "Pclass_2        0\n",
       "Pclass_3        0\n",
       "Embarked_C      0\n",
       "Embarked_Q      0\n",
       "Embarked_S      0\n",
       "dtype: int64"
      ]
     },
     "execution_count": 20,
     "metadata": {},
     "output_type": "execute_result"
    }
   ],
   "source": [
    "df_dummies.isnull().sum()"
   ]
  },
  {
   "cell_type": "code",
   "execution_count": 21,
   "metadata": {},
   "outputs": [],
   "source": [
    "X_train = df_dummies[df_dummies.is_test==0].drop('is_test', axis=1)\n",
    "X_test = df_dummies[df_dummies.is_test==1].drop('is_test', axis=1)"
   ]
  },
  {
   "cell_type": "code",
   "execution_count": 22,
   "metadata": {},
   "outputs": [],
   "source": [
    "columns = X_train.columns"
   ]
  },
  {
   "cell_type": "code",
   "execution_count": 23,
   "metadata": {},
   "outputs": [
    {
     "data": {
      "text/html": [
       "<div>\n",
       "<style scoped>\n",
       "    .dataframe tbody tr th:only-of-type {\n",
       "        vertical-align: middle;\n",
       "    }\n",
       "\n",
       "    .dataframe tbody tr th {\n",
       "        vertical-align: top;\n",
       "    }\n",
       "\n",
       "    .dataframe thead th {\n",
       "        text-align: right;\n",
       "    }\n",
       "</style>\n",
       "<table border=\"1\" class=\"dataframe\">\n",
       "  <thead>\n",
       "    <tr style=\"text-align: right;\">\n",
       "      <th></th>\n",
       "      <th>Age</th>\n",
       "      <th>SibSp</th>\n",
       "      <th>Parch</th>\n",
       "      <th>Fare</th>\n",
       "      <th>isMale</th>\n",
       "      <th>Pclass_1</th>\n",
       "      <th>Pclass_2</th>\n",
       "      <th>Pclass_3</th>\n",
       "      <th>Embarked_C</th>\n",
       "      <th>Embarked_Q</th>\n",
       "      <th>Embarked_S</th>\n",
       "    </tr>\n",
       "  </thead>\n",
       "  <tbody>\n",
       "    <tr>\n",
       "      <th>0</th>\n",
       "      <td>22.0</td>\n",
       "      <td>1</td>\n",
       "      <td>0</td>\n",
       "      <td>7.2500</td>\n",
       "      <td>1</td>\n",
       "      <td>0</td>\n",
       "      <td>0</td>\n",
       "      <td>1</td>\n",
       "      <td>0</td>\n",
       "      <td>0</td>\n",
       "      <td>1</td>\n",
       "    </tr>\n",
       "    <tr>\n",
       "      <th>1</th>\n",
       "      <td>38.0</td>\n",
       "      <td>1</td>\n",
       "      <td>0</td>\n",
       "      <td>71.2833</td>\n",
       "      <td>0</td>\n",
       "      <td>1</td>\n",
       "      <td>0</td>\n",
       "      <td>0</td>\n",
       "      <td>1</td>\n",
       "      <td>0</td>\n",
       "      <td>0</td>\n",
       "    </tr>\n",
       "    <tr>\n",
       "      <th>2</th>\n",
       "      <td>26.0</td>\n",
       "      <td>0</td>\n",
       "      <td>0</td>\n",
       "      <td>7.9250</td>\n",
       "      <td>0</td>\n",
       "      <td>0</td>\n",
       "      <td>0</td>\n",
       "      <td>1</td>\n",
       "      <td>0</td>\n",
       "      <td>0</td>\n",
       "      <td>1</td>\n",
       "    </tr>\n",
       "    <tr>\n",
       "      <th>3</th>\n",
       "      <td>35.0</td>\n",
       "      <td>1</td>\n",
       "      <td>0</td>\n",
       "      <td>53.1000</td>\n",
       "      <td>0</td>\n",
       "      <td>1</td>\n",
       "      <td>0</td>\n",
       "      <td>0</td>\n",
       "      <td>0</td>\n",
       "      <td>0</td>\n",
       "      <td>1</td>\n",
       "    </tr>\n",
       "    <tr>\n",
       "      <th>4</th>\n",
       "      <td>35.0</td>\n",
       "      <td>0</td>\n",
       "      <td>0</td>\n",
       "      <td>8.0500</td>\n",
       "      <td>1</td>\n",
       "      <td>0</td>\n",
       "      <td>0</td>\n",
       "      <td>1</td>\n",
       "      <td>0</td>\n",
       "      <td>0</td>\n",
       "      <td>1</td>\n",
       "    </tr>\n",
       "    <tr>\n",
       "      <th>5</th>\n",
       "      <td>NaN</td>\n",
       "      <td>0</td>\n",
       "      <td>0</td>\n",
       "      <td>8.4583</td>\n",
       "      <td>1</td>\n",
       "      <td>0</td>\n",
       "      <td>0</td>\n",
       "      <td>1</td>\n",
       "      <td>0</td>\n",
       "      <td>1</td>\n",
       "      <td>0</td>\n",
       "    </tr>\n",
       "    <tr>\n",
       "      <th>6</th>\n",
       "      <td>54.0</td>\n",
       "      <td>0</td>\n",
       "      <td>0</td>\n",
       "      <td>51.8625</td>\n",
       "      <td>1</td>\n",
       "      <td>1</td>\n",
       "      <td>0</td>\n",
       "      <td>0</td>\n",
       "      <td>0</td>\n",
       "      <td>0</td>\n",
       "      <td>1</td>\n",
       "    </tr>\n",
       "    <tr>\n",
       "      <th>7</th>\n",
       "      <td>2.0</td>\n",
       "      <td>3</td>\n",
       "      <td>1</td>\n",
       "      <td>21.0750</td>\n",
       "      <td>1</td>\n",
       "      <td>0</td>\n",
       "      <td>0</td>\n",
       "      <td>1</td>\n",
       "      <td>0</td>\n",
       "      <td>0</td>\n",
       "      <td>1</td>\n",
       "    </tr>\n",
       "    <tr>\n",
       "      <th>8</th>\n",
       "      <td>27.0</td>\n",
       "      <td>0</td>\n",
       "      <td>2</td>\n",
       "      <td>11.1333</td>\n",
       "      <td>0</td>\n",
       "      <td>0</td>\n",
       "      <td>0</td>\n",
       "      <td>1</td>\n",
       "      <td>0</td>\n",
       "      <td>0</td>\n",
       "      <td>1</td>\n",
       "    </tr>\n",
       "    <tr>\n",
       "      <th>9</th>\n",
       "      <td>14.0</td>\n",
       "      <td>1</td>\n",
       "      <td>0</td>\n",
       "      <td>30.0708</td>\n",
       "      <td>0</td>\n",
       "      <td>0</td>\n",
       "      <td>1</td>\n",
       "      <td>0</td>\n",
       "      <td>1</td>\n",
       "      <td>0</td>\n",
       "      <td>0</td>\n",
       "    </tr>\n",
       "  </tbody>\n",
       "</table>\n",
       "</div>"
      ],
      "text/plain": [
       "    Age  SibSp  Parch     Fare  isMale  Pclass_1  Pclass_2  Pclass_3  \\\n",
       "0  22.0      1      0   7.2500       1         0         0         1   \n",
       "1  38.0      1      0  71.2833       0         1         0         0   \n",
       "2  26.0      0      0   7.9250       0         0         0         1   \n",
       "3  35.0      1      0  53.1000       0         1         0         0   \n",
       "4  35.0      0      0   8.0500       1         0         0         1   \n",
       "5   NaN      0      0   8.4583       1         0         0         1   \n",
       "6  54.0      0      0  51.8625       1         1         0         0   \n",
       "7   2.0      3      1  21.0750       1         0         0         1   \n",
       "8  27.0      0      2  11.1333       0         0         0         1   \n",
       "9  14.0      1      0  30.0708       0         0         1         0   \n",
       "\n",
       "   Embarked_C  Embarked_Q  Embarked_S  \n",
       "0           0           0           1  \n",
       "1           1           0           0  \n",
       "2           0           0           1  \n",
       "3           0           0           1  \n",
       "4           0           0           1  \n",
       "5           0           1           0  \n",
       "6           0           0           1  \n",
       "7           0           0           1  \n",
       "8           0           0           1  \n",
       "9           1           0           0  "
      ]
     },
     "execution_count": 23,
     "metadata": {},
     "output_type": "execute_result"
    }
   ],
   "source": [
    "X_train.head(10)"
   ]
  },
  {
   "cell_type": "markdown",
   "metadata": {},
   "source": [
    "### Заполнение пустых значений"
   ]
  },
  {
   "cell_type": "markdown",
   "metadata": {},
   "source": [
    "заполним пустые значения средними по соответственным признакам"
   ]
  },
  {
   "cell_type": "code",
   "execution_count": 24,
   "metadata": {},
   "outputs": [],
   "source": [
    "from sklearn.preprocessing import Imputer"
   ]
  },
  {
   "cell_type": "code",
   "execution_count": 25,
   "metadata": {},
   "outputs": [
    {
     "name": "stderr",
     "output_type": "stream",
     "text": [
      "/Applications/anaconda3/lib/python3.6/site-packages/sklearn/utils/deprecation.py:58: DeprecationWarning: Class Imputer is deprecated; Imputer was deprecated in version 0.20 and will be removed in 0.22. Import impute.SimpleImputer from sklearn instead.\n",
      "  warnings.warn(msg, category=DeprecationWarning)\n"
     ]
    }
   ],
   "source": [
    "imputer = Imputer(missing_values='NaN', strategy='mean', axis=0, verbose=0, copy=True)"
   ]
  },
  {
   "cell_type": "code",
   "execution_count": 26,
   "metadata": {
    "scrolled": true
   },
   "outputs": [
    {
     "data": {
      "text/plain": [
       "Imputer(axis=0, copy=True, missing_values='NaN', strategy='mean', verbose=0)"
      ]
     },
     "execution_count": 26,
     "metadata": {},
     "output_type": "execute_result"
    }
   ],
   "source": [
    "imputer.fit(X_train)"
   ]
  },
  {
   "cell_type": "code",
   "execution_count": 27,
   "metadata": {},
   "outputs": [],
   "source": [
    "X_train_imputed = imputer.transform(X_train)\n",
    "X_train_imputed = pd.DataFrame(X_train_imputed, columns=columns)"
   ]
  },
  {
   "cell_type": "code",
   "execution_count": 28,
   "metadata": {},
   "outputs": [
    {
     "data": {
      "text/html": [
       "<div>\n",
       "<style scoped>\n",
       "    .dataframe tbody tr th:only-of-type {\n",
       "        vertical-align: middle;\n",
       "    }\n",
       "\n",
       "    .dataframe tbody tr th {\n",
       "        vertical-align: top;\n",
       "    }\n",
       "\n",
       "    .dataframe thead th {\n",
       "        text-align: right;\n",
       "    }\n",
       "</style>\n",
       "<table border=\"1\" class=\"dataframe\">\n",
       "  <thead>\n",
       "    <tr style=\"text-align: right;\">\n",
       "      <th></th>\n",
       "      <th>Age</th>\n",
       "      <th>SibSp</th>\n",
       "      <th>Parch</th>\n",
       "      <th>Fare</th>\n",
       "      <th>isMale</th>\n",
       "      <th>Pclass_1</th>\n",
       "      <th>Pclass_2</th>\n",
       "      <th>Pclass_3</th>\n",
       "      <th>Embarked_C</th>\n",
       "      <th>Embarked_Q</th>\n",
       "      <th>Embarked_S</th>\n",
       "    </tr>\n",
       "  </thead>\n",
       "  <tbody>\n",
       "    <tr>\n",
       "      <th>0</th>\n",
       "      <td>22.000000</td>\n",
       "      <td>1.0</td>\n",
       "      <td>0.0</td>\n",
       "      <td>7.2500</td>\n",
       "      <td>1.0</td>\n",
       "      <td>0.0</td>\n",
       "      <td>0.0</td>\n",
       "      <td>1.0</td>\n",
       "      <td>0.0</td>\n",
       "      <td>0.0</td>\n",
       "      <td>1.0</td>\n",
       "    </tr>\n",
       "    <tr>\n",
       "      <th>1</th>\n",
       "      <td>38.000000</td>\n",
       "      <td>1.0</td>\n",
       "      <td>0.0</td>\n",
       "      <td>71.2833</td>\n",
       "      <td>0.0</td>\n",
       "      <td>1.0</td>\n",
       "      <td>0.0</td>\n",
       "      <td>0.0</td>\n",
       "      <td>1.0</td>\n",
       "      <td>0.0</td>\n",
       "      <td>0.0</td>\n",
       "    </tr>\n",
       "    <tr>\n",
       "      <th>2</th>\n",
       "      <td>26.000000</td>\n",
       "      <td>0.0</td>\n",
       "      <td>0.0</td>\n",
       "      <td>7.9250</td>\n",
       "      <td>0.0</td>\n",
       "      <td>0.0</td>\n",
       "      <td>0.0</td>\n",
       "      <td>1.0</td>\n",
       "      <td>0.0</td>\n",
       "      <td>0.0</td>\n",
       "      <td>1.0</td>\n",
       "    </tr>\n",
       "    <tr>\n",
       "      <th>3</th>\n",
       "      <td>35.000000</td>\n",
       "      <td>1.0</td>\n",
       "      <td>0.0</td>\n",
       "      <td>53.1000</td>\n",
       "      <td>0.0</td>\n",
       "      <td>1.0</td>\n",
       "      <td>0.0</td>\n",
       "      <td>0.0</td>\n",
       "      <td>0.0</td>\n",
       "      <td>0.0</td>\n",
       "      <td>1.0</td>\n",
       "    </tr>\n",
       "    <tr>\n",
       "      <th>4</th>\n",
       "      <td>35.000000</td>\n",
       "      <td>0.0</td>\n",
       "      <td>0.0</td>\n",
       "      <td>8.0500</td>\n",
       "      <td>1.0</td>\n",
       "      <td>0.0</td>\n",
       "      <td>0.0</td>\n",
       "      <td>1.0</td>\n",
       "      <td>0.0</td>\n",
       "      <td>0.0</td>\n",
       "      <td>1.0</td>\n",
       "    </tr>\n",
       "    <tr>\n",
       "      <th>5</th>\n",
       "      <td>29.699118</td>\n",
       "      <td>0.0</td>\n",
       "      <td>0.0</td>\n",
       "      <td>8.4583</td>\n",
       "      <td>1.0</td>\n",
       "      <td>0.0</td>\n",
       "      <td>0.0</td>\n",
       "      <td>1.0</td>\n",
       "      <td>0.0</td>\n",
       "      <td>1.0</td>\n",
       "      <td>0.0</td>\n",
       "    </tr>\n",
       "    <tr>\n",
       "      <th>6</th>\n",
       "      <td>54.000000</td>\n",
       "      <td>0.0</td>\n",
       "      <td>0.0</td>\n",
       "      <td>51.8625</td>\n",
       "      <td>1.0</td>\n",
       "      <td>1.0</td>\n",
       "      <td>0.0</td>\n",
       "      <td>0.0</td>\n",
       "      <td>0.0</td>\n",
       "      <td>0.0</td>\n",
       "      <td>1.0</td>\n",
       "    </tr>\n",
       "    <tr>\n",
       "      <th>7</th>\n",
       "      <td>2.000000</td>\n",
       "      <td>3.0</td>\n",
       "      <td>1.0</td>\n",
       "      <td>21.0750</td>\n",
       "      <td>1.0</td>\n",
       "      <td>0.0</td>\n",
       "      <td>0.0</td>\n",
       "      <td>1.0</td>\n",
       "      <td>0.0</td>\n",
       "      <td>0.0</td>\n",
       "      <td>1.0</td>\n",
       "    </tr>\n",
       "    <tr>\n",
       "      <th>8</th>\n",
       "      <td>27.000000</td>\n",
       "      <td>0.0</td>\n",
       "      <td>2.0</td>\n",
       "      <td>11.1333</td>\n",
       "      <td>0.0</td>\n",
       "      <td>0.0</td>\n",
       "      <td>0.0</td>\n",
       "      <td>1.0</td>\n",
       "      <td>0.0</td>\n",
       "      <td>0.0</td>\n",
       "      <td>1.0</td>\n",
       "    </tr>\n",
       "    <tr>\n",
       "      <th>9</th>\n",
       "      <td>14.000000</td>\n",
       "      <td>1.0</td>\n",
       "      <td>0.0</td>\n",
       "      <td>30.0708</td>\n",
       "      <td>0.0</td>\n",
       "      <td>0.0</td>\n",
       "      <td>1.0</td>\n",
       "      <td>0.0</td>\n",
       "      <td>1.0</td>\n",
       "      <td>0.0</td>\n",
       "      <td>0.0</td>\n",
       "    </tr>\n",
       "  </tbody>\n",
       "</table>\n",
       "</div>"
      ],
      "text/plain": [
       "         Age  SibSp  Parch     Fare  isMale  Pclass_1  Pclass_2  Pclass_3  \\\n",
       "0  22.000000    1.0    0.0   7.2500     1.0       0.0       0.0       1.0   \n",
       "1  38.000000    1.0    0.0  71.2833     0.0       1.0       0.0       0.0   \n",
       "2  26.000000    0.0    0.0   7.9250     0.0       0.0       0.0       1.0   \n",
       "3  35.000000    1.0    0.0  53.1000     0.0       1.0       0.0       0.0   \n",
       "4  35.000000    0.0    0.0   8.0500     1.0       0.0       0.0       1.0   \n",
       "5  29.699118    0.0    0.0   8.4583     1.0       0.0       0.0       1.0   \n",
       "6  54.000000    0.0    0.0  51.8625     1.0       1.0       0.0       0.0   \n",
       "7   2.000000    3.0    1.0  21.0750     1.0       0.0       0.0       1.0   \n",
       "8  27.000000    0.0    2.0  11.1333     0.0       0.0       0.0       1.0   \n",
       "9  14.000000    1.0    0.0  30.0708     0.0       0.0       1.0       0.0   \n",
       "\n",
       "   Embarked_C  Embarked_Q  Embarked_S  \n",
       "0         0.0         0.0         1.0  \n",
       "1         1.0         0.0         0.0  \n",
       "2         0.0         0.0         1.0  \n",
       "3         0.0         0.0         1.0  \n",
       "4         0.0         0.0         1.0  \n",
       "5         0.0         1.0         0.0  \n",
       "6         0.0         0.0         1.0  \n",
       "7         0.0         0.0         1.0  \n",
       "8         0.0         0.0         1.0  \n",
       "9         1.0         0.0         0.0  "
      ]
     },
     "execution_count": 28,
     "metadata": {},
     "output_type": "execute_result"
    }
   ],
   "source": [
    "X_train_imputed.head(10)"
   ]
  },
  {
   "cell_type": "markdown",
   "metadata": {},
   "source": [
    "### Нормировка значений"
   ]
  },
  {
   "cell_type": "code",
   "execution_count": 29,
   "metadata": {},
   "outputs": [],
   "source": [
    "from sklearn.preprocessing import StandardScaler"
   ]
  },
  {
   "cell_type": "code",
   "execution_count": 30,
   "metadata": {},
   "outputs": [],
   "source": [
    "scaler = StandardScaler()"
   ]
  },
  {
   "cell_type": "code",
   "execution_count": 31,
   "metadata": {},
   "outputs": [
    {
     "data": {
      "text/plain": [
       "StandardScaler(copy=True, with_mean=True, with_std=True)"
      ]
     },
     "execution_count": 31,
     "metadata": {},
     "output_type": "execute_result"
    }
   ],
   "source": [
    "scaler.fit(X_train_imputed)"
   ]
  },
  {
   "cell_type": "code",
   "execution_count": 32,
   "metadata": {},
   "outputs": [],
   "source": [
    "X_train_imputed_scaled = scaler.transform(X_train_imputed)\n",
    "X_train_imputed_scaled = pd.DataFrame(X_train_imputed_scaled, columns=columns)"
   ]
  },
  {
   "cell_type": "code",
   "execution_count": 33,
   "metadata": {},
   "outputs": [
    {
     "data": {
      "text/html": [
       "<div>\n",
       "<style scoped>\n",
       "    .dataframe tbody tr th:only-of-type {\n",
       "        vertical-align: middle;\n",
       "    }\n",
       "\n",
       "    .dataframe tbody tr th {\n",
       "        vertical-align: top;\n",
       "    }\n",
       "\n",
       "    .dataframe thead th {\n",
       "        text-align: right;\n",
       "    }\n",
       "</style>\n",
       "<table border=\"1\" class=\"dataframe\">\n",
       "  <thead>\n",
       "    <tr style=\"text-align: right;\">\n",
       "      <th></th>\n",
       "      <th>Age</th>\n",
       "      <th>SibSp</th>\n",
       "      <th>Parch</th>\n",
       "      <th>Fare</th>\n",
       "      <th>isMale</th>\n",
       "      <th>Pclass_1</th>\n",
       "      <th>Pclass_2</th>\n",
       "      <th>Pclass_3</th>\n",
       "      <th>Embarked_C</th>\n",
       "      <th>Embarked_Q</th>\n",
       "      <th>Embarked_S</th>\n",
       "    </tr>\n",
       "  </thead>\n",
       "  <tbody>\n",
       "    <tr>\n",
       "      <th>0</th>\n",
       "      <td>-0.592481</td>\n",
       "      <td>0.432793</td>\n",
       "      <td>-0.473674</td>\n",
       "      <td>-0.502445</td>\n",
       "      <td>0.737695</td>\n",
       "      <td>-0.565685</td>\n",
       "      <td>-0.510152</td>\n",
       "      <td>0.902587</td>\n",
       "      <td>-0.482043</td>\n",
       "      <td>-0.307562</td>\n",
       "      <td>0.619306</td>\n",
       "    </tr>\n",
       "    <tr>\n",
       "      <th>1</th>\n",
       "      <td>0.638789</td>\n",
       "      <td>0.432793</td>\n",
       "      <td>-0.473674</td>\n",
       "      <td>0.786845</td>\n",
       "      <td>-1.355574</td>\n",
       "      <td>1.767767</td>\n",
       "      <td>-0.510152</td>\n",
       "      <td>-1.107926</td>\n",
       "      <td>2.074505</td>\n",
       "      <td>-0.307562</td>\n",
       "      <td>-1.614710</td>\n",
       "    </tr>\n",
       "    <tr>\n",
       "      <th>2</th>\n",
       "      <td>-0.284663</td>\n",
       "      <td>-0.474545</td>\n",
       "      <td>-0.473674</td>\n",
       "      <td>-0.488854</td>\n",
       "      <td>-1.355574</td>\n",
       "      <td>-0.565685</td>\n",
       "      <td>-0.510152</td>\n",
       "      <td>0.902587</td>\n",
       "      <td>-0.482043</td>\n",
       "      <td>-0.307562</td>\n",
       "      <td>0.619306</td>\n",
       "    </tr>\n",
       "    <tr>\n",
       "      <th>3</th>\n",
       "      <td>0.407926</td>\n",
       "      <td>0.432793</td>\n",
       "      <td>-0.473674</td>\n",
       "      <td>0.420730</td>\n",
       "      <td>-1.355574</td>\n",
       "      <td>1.767767</td>\n",
       "      <td>-0.510152</td>\n",
       "      <td>-1.107926</td>\n",
       "      <td>-0.482043</td>\n",
       "      <td>-0.307562</td>\n",
       "      <td>0.619306</td>\n",
       "    </tr>\n",
       "    <tr>\n",
       "      <th>4</th>\n",
       "      <td>0.407926</td>\n",
       "      <td>-0.474545</td>\n",
       "      <td>-0.473674</td>\n",
       "      <td>-0.486337</td>\n",
       "      <td>0.737695</td>\n",
       "      <td>-0.565685</td>\n",
       "      <td>-0.510152</td>\n",
       "      <td>0.902587</td>\n",
       "      <td>-0.482043</td>\n",
       "      <td>-0.307562</td>\n",
       "      <td>0.619306</td>\n",
       "    </tr>\n",
       "    <tr>\n",
       "      <th>5</th>\n",
       "      <td>0.000000</td>\n",
       "      <td>-0.474545</td>\n",
       "      <td>-0.473674</td>\n",
       "      <td>-0.478116</td>\n",
       "      <td>0.737695</td>\n",
       "      <td>-0.565685</td>\n",
       "      <td>-0.510152</td>\n",
       "      <td>0.902587</td>\n",
       "      <td>-0.482043</td>\n",
       "      <td>3.251373</td>\n",
       "      <td>-1.614710</td>\n",
       "    </tr>\n",
       "    <tr>\n",
       "      <th>6</th>\n",
       "      <td>1.870059</td>\n",
       "      <td>-0.474545</td>\n",
       "      <td>-0.473674</td>\n",
       "      <td>0.395814</td>\n",
       "      <td>0.737695</td>\n",
       "      <td>1.767767</td>\n",
       "      <td>-0.510152</td>\n",
       "      <td>-1.107926</td>\n",
       "      <td>-0.482043</td>\n",
       "      <td>-0.307562</td>\n",
       "      <td>0.619306</td>\n",
       "    </tr>\n",
       "    <tr>\n",
       "      <th>7</th>\n",
       "      <td>-2.131568</td>\n",
       "      <td>2.247470</td>\n",
       "      <td>0.767630</td>\n",
       "      <td>-0.224083</td>\n",
       "      <td>0.737695</td>\n",
       "      <td>-0.565685</td>\n",
       "      <td>-0.510152</td>\n",
       "      <td>0.902587</td>\n",
       "      <td>-0.482043</td>\n",
       "      <td>-0.307562</td>\n",
       "      <td>0.619306</td>\n",
       "    </tr>\n",
       "    <tr>\n",
       "      <th>8</th>\n",
       "      <td>-0.207709</td>\n",
       "      <td>-0.474545</td>\n",
       "      <td>2.008933</td>\n",
       "      <td>-0.424256</td>\n",
       "      <td>-1.355574</td>\n",
       "      <td>-0.565685</td>\n",
       "      <td>-0.510152</td>\n",
       "      <td>0.902587</td>\n",
       "      <td>-0.482043</td>\n",
       "      <td>-0.307562</td>\n",
       "      <td>0.619306</td>\n",
       "    </tr>\n",
       "    <tr>\n",
       "      <th>9</th>\n",
       "      <td>-1.208115</td>\n",
       "      <td>0.432793</td>\n",
       "      <td>-0.473674</td>\n",
       "      <td>-0.042956</td>\n",
       "      <td>-1.355574</td>\n",
       "      <td>-0.565685</td>\n",
       "      <td>1.960202</td>\n",
       "      <td>-1.107926</td>\n",
       "      <td>2.074505</td>\n",
       "      <td>-0.307562</td>\n",
       "      <td>-1.614710</td>\n",
       "    </tr>\n",
       "  </tbody>\n",
       "</table>\n",
       "</div>"
      ],
      "text/plain": [
       "        Age     SibSp     Parch      Fare    isMale  Pclass_1  Pclass_2  \\\n",
       "0 -0.592481  0.432793 -0.473674 -0.502445  0.737695 -0.565685 -0.510152   \n",
       "1  0.638789  0.432793 -0.473674  0.786845 -1.355574  1.767767 -0.510152   \n",
       "2 -0.284663 -0.474545 -0.473674 -0.488854 -1.355574 -0.565685 -0.510152   \n",
       "3  0.407926  0.432793 -0.473674  0.420730 -1.355574  1.767767 -0.510152   \n",
       "4  0.407926 -0.474545 -0.473674 -0.486337  0.737695 -0.565685 -0.510152   \n",
       "5  0.000000 -0.474545 -0.473674 -0.478116  0.737695 -0.565685 -0.510152   \n",
       "6  1.870059 -0.474545 -0.473674  0.395814  0.737695  1.767767 -0.510152   \n",
       "7 -2.131568  2.247470  0.767630 -0.224083  0.737695 -0.565685 -0.510152   \n",
       "8 -0.207709 -0.474545  2.008933 -0.424256 -1.355574 -0.565685 -0.510152   \n",
       "9 -1.208115  0.432793 -0.473674 -0.042956 -1.355574 -0.565685  1.960202   \n",
       "\n",
       "   Pclass_3  Embarked_C  Embarked_Q  Embarked_S  \n",
       "0  0.902587   -0.482043   -0.307562    0.619306  \n",
       "1 -1.107926    2.074505   -0.307562   -1.614710  \n",
       "2  0.902587   -0.482043   -0.307562    0.619306  \n",
       "3 -1.107926   -0.482043   -0.307562    0.619306  \n",
       "4  0.902587   -0.482043   -0.307562    0.619306  \n",
       "5  0.902587   -0.482043    3.251373   -1.614710  \n",
       "6 -1.107926   -0.482043   -0.307562    0.619306  \n",
       "7  0.902587   -0.482043   -0.307562    0.619306  \n",
       "8  0.902587   -0.482043   -0.307562    0.619306  \n",
       "9 -1.107926    2.074505   -0.307562   -1.614710  "
      ]
     },
     "execution_count": 33,
     "metadata": {},
     "output_type": "execute_result"
    }
   ],
   "source": [
    "X_train_imputed_scaled.head(10)"
   ]
  },
  {
   "cell_type": "code",
   "execution_count": 34,
   "metadata": {},
   "outputs": [],
   "source": [
    "X_test_imputed_scaled = scaler.transform(imputer.transform(X_test))"
   ]
  },
  {
   "cell_type": "markdown",
   "metadata": {},
   "source": [
    "### Offtop: попробуем визуализировать всех пассажиров: есть ли там кластеры?\n",
    "### PCA + clustering"
   ]
  },
  {
   "cell_type": "code",
   "execution_count": 35,
   "metadata": {},
   "outputs": [],
   "source": [
    "from sklearn.decomposition import PCA"
   ]
  },
  {
   "cell_type": "code",
   "execution_count": 36,
   "metadata": {},
   "outputs": [],
   "source": [
    "pca = PCA(n_components=2)"
   ]
  },
  {
   "cell_type": "code",
   "execution_count": 37,
   "metadata": {},
   "outputs": [],
   "source": [
    "ppl = pca.fit_transform(X_train_imputed_scaled)"
   ]
  },
  {
   "cell_type": "markdown",
   "metadata": {},
   "source": [
    "всего 2 фичи объясняют 41% всего разнообразия пассажиров:"
   ]
  },
  {
   "cell_type": "code",
   "execution_count": 38,
   "metadata": {},
   "outputs": [
    {
     "data": {
      "text/plain": [
       "0.4101755416020732"
      ]
     },
     "execution_count": 38,
     "metadata": {},
     "output_type": "execute_result"
    }
   ],
   "source": [
    "pca.explained_variance_ratio_.sum()"
   ]
  },
  {
   "cell_type": "markdown",
   "metadata": {},
   "source": [
    "классно, видно 6 кластеров пассажиров: внутри кластера они похожи друг на друга, межу кластерами - нет:"
   ]
  },
  {
   "cell_type": "code",
   "execution_count": 39,
   "metadata": {},
   "outputs": [
    {
     "data": {
      "text/plain": [
       "Text(0.5, 1.0, 'Пассажиры Титаника')"
      ]
     },
     "execution_count": 39,
     "metadata": {},
     "output_type": "execute_result"
    },
    {
     "data": {
      "image/png": "[encoded data removed]",
      "text/plain": [
       "<Figure size 432x288 with 1 Axes>"
      ]
     },
     "metadata": {
      "image/png": {
       "height": 263,
       "width": 372
      },
      "needs_background": "light"
     },
     "output_type": "display_data"
    }
   ],
   "source": [
    "plt.plot(ppl[:,0], ppl[:,1], 'ro', alpha=0.1)\n",
    "plt.title('Пассажиры Титаника')"
   ]
  },
  {
   "cell_type": "markdown",
   "metadata": {},
   "source": [
    "можно попробовать кластеризовать по 7 кластерам и проверить, что получится:"
   ]
  },
  {
   "cell_type": "code",
   "execution_count": 40,
   "metadata": {},
   "outputs": [],
   "source": [
    "from sklearn.cluster import KMeans"
   ]
  },
  {
   "cell_type": "code",
   "execution_count": 41,
   "metadata": {},
   "outputs": [],
   "source": [
    "n_clusters = 7"
   ]
  },
  {
   "cell_type": "code",
   "execution_count": 42,
   "metadata": {},
   "outputs": [],
   "source": [
    "kmeans = KMeans(n_clusters=n_clusters)"
   ]
  },
  {
   "cell_type": "code",
   "execution_count": 43,
   "metadata": {},
   "outputs": [
    {
     "data": {
      "text/plain": [
       "KMeans(algorithm='auto', copy_x=True, init='k-means++', max_iter=300,\n",
       "    n_clusters=7, n_init=10, n_jobs=None, precompute_distances='auto',\n",
       "    random_state=None, tol=0.0001, verbose=0)"
      ]
     },
     "execution_count": 43,
     "metadata": {},
     "output_type": "execute_result"
    }
   ],
   "source": [
    "kmeans.fit(X_train_imputed_scaled)"
   ]
  },
  {
   "cell_type": "code",
   "execution_count": 44,
   "metadata": {},
   "outputs": [],
   "source": [
    "cluster_labels = kmeans.predict(X_train_imputed_scaled)"
   ]
  },
  {
   "cell_type": "code",
   "execution_count": 45,
   "metadata": {},
   "outputs": [
    {
     "data": {
      "image/png": "[encoded data removed]",
      "text/plain": [
       "<Figure size 432x288 with 1 Axes>"
      ]
     },
     "metadata": {
      "image/png": {
       "height": 263,
       "width": 372
      },
      "needs_background": "light"
     },
     "output_type": "display_data"
    }
   ],
   "source": [
    "plt.title('Пассажиры Титаника')\n",
    "for i,color in zip(range(n_clusters),{'blue','red','green','black','orange','yellow'}):\n",
    "    t = ppl[cluster_labels==i]\n",
    "    plt.plot(t[:,0], t[:,1], 'ro', alpha=0.1, c=color)"
   ]
  },
  {
   "cell_type": "markdown",
   "metadata": {},
   "source": [
    "эти номера кластеров можно было бы подать как ещё одна фича"
   ]
  },
  {
   "cell_type": "markdown",
   "metadata": {},
   "source": [
    "### Разделение на обучающую и тестирующую выборки"
   ]
  },
  {
   "cell_type": "code",
   "execution_count": 46,
   "metadata": {},
   "outputs": [],
   "source": [
    "from sklearn.model_selection import train_test_split"
   ]
  },
  {
   "cell_type": "code",
   "execution_count": 47,
   "metadata": {},
   "outputs": [],
   "source": [
    "X_train_fin, X_val, y_train_fin, y_val = train_test_split(X_train_imputed_scaled, y_train, test_size=0.2)"
   ]
  },
  {
   "cell_type": "code",
   "execution_count": 48,
   "metadata": {},
   "outputs": [
    {
     "data": {
      "text/plain": [
       "(712, 11)"
      ]
     },
     "execution_count": 48,
     "metadata": {},
     "output_type": "execute_result"
    }
   ],
   "source": [
    "X_train_fin.shape"
   ]
  },
  {
   "cell_type": "code",
   "execution_count": 49,
   "metadata": {
    "scrolled": true
   },
   "outputs": [
    {
     "data": {
      "text/plain": [
       "(179, 11)"
      ]
     },
     "execution_count": 49,
     "metadata": {},
     "output_type": "execute_result"
    }
   ],
   "source": [
    "X_val.shape"
   ]
  },
  {
   "cell_type": "code",
   "execution_count": 50,
   "metadata": {},
   "outputs": [
    {
     "data": {
      "text/plain": [
       "(418, 11)"
      ]
     },
     "execution_count": 50,
     "metadata": {},
     "output_type": "execute_result"
    }
   ],
   "source": [
    "X_test_imputed_scaled.shape"
   ]
  },
  {
   "cell_type": "code",
   "execution_count": 51,
   "metadata": {},
   "outputs": [
    {
     "data": {
      "text/plain": [
       "(712,)"
      ]
     },
     "execution_count": 51,
     "metadata": {},
     "output_type": "execute_result"
    }
   ],
   "source": [
    "y_train_fin.shape"
   ]
  },
  {
   "cell_type": "code",
   "execution_count": 52,
   "metadata": {},
   "outputs": [
    {
     "data": {
      "text/plain": [
       "(179,)"
      ]
     },
     "execution_count": 52,
     "metadata": {},
     "output_type": "execute_result"
    }
   ],
   "source": [
    "y_val.shape"
   ]
  },
  {
   "cell_type": "code",
   "execution_count": 53,
   "metadata": {},
   "outputs": [],
   "source": [
    "#ФИО:Михайлова Ксения   Домашнее задание (Алгоритмы классификации)"
   ]
  },
  {
   "cell_type": "code",
   "execution_count": 55,
   "metadata": {},
   "outputs": [],
   "source": [
    "from sklearn.model_selection import GridSearchCV\n",
    "from sklearn.tree import DecisionTreeClassifier"
   ]
  },
  {
   "cell_type": "code",
   "execution_count": 56,
   "metadata": {},
   "outputs": [
    {
     "data": {
      "text/plain": [
       "([<matplotlib.axis.YTick at 0x1a25f08e48>,\n",
       "  <matplotlib.axis.YTick at 0x1a25a0beb8>,\n",
       "  <matplotlib.axis.YTick at 0x11016dda0>,\n",
       "  <matplotlib.axis.YTick at 0x1a260bc8d0>,\n",
       "  <matplotlib.axis.YTick at 0x1a260bcda0>,\n",
       "  <matplotlib.axis.YTick at 0x1a259e82b0>,\n",
       "  <matplotlib.axis.YTick at 0x1a259e8780>,\n",
       "  <matplotlib.axis.YTick at 0x1a259e8c50>,\n",
       "  <matplotlib.axis.YTick at 0x1a259e8d30>,\n",
       "  <matplotlib.axis.YTick at 0x1a260bcc18>,\n",
       "  <matplotlib.axis.YTick at 0x1a259f94e0>],\n",
       " <a list of 11 Text yticklabel objects>)"
      ]
     },
     "execution_count": 56,
     "metadata": {},
     "output_type": "execute_result"
    },
    {
     "data": {
      "image/png": "[encoded data removed]",
      "text/plain": [
       "<Figure size 432x288 with 1 Axes>"
      ]
     },
     "metadata": {
      "image/png": {
       "height": 250,
       "width": 422
      },
      "needs_background": "light"
     },
     "output_type": "display_data"
    }
   ],
   "source": [
    "clf = DecisionTreeClassifier(max_depth=3)\n",
    "clf.fit(X_train_fin, y_train_fin)\n",
    "\n",
    "plt.barh(np.arange(len(clf.feature_importances_)), clf.feature_importances_)\n",
    "plt.yticks(np.arange(len(X_train_fin.columns)),X_train_fin.columns)"
   ]
  },
  {
   "cell_type": "code",
   "execution_count": 57,
   "metadata": {},
   "outputs": [],
   "source": [
    "features_num = np.arange(1,9)\n",
    "grid = {'max_features': features_num}\n",
    "gridsearch = GridSearchCV(DecisionTreeClassifier(), grid, scoring='neg_log_loss', cv=5)"
   ]
  },
  {
   "cell_type": "code",
   "execution_count": 58,
   "metadata": {},
   "outputs": [
    {
     "name": "stderr",
     "output_type": "stream",
     "text": [
      "/Applications/anaconda3/lib/python3.6/site-packages/sklearn/model_selection/_search.py:841: DeprecationWarning: The default of the `iid` parameter will change from True to False in version 0.22 and will be removed in 0.24. This will change numeric results when test-set sizes are unequal.\n",
      "  DeprecationWarning)\n"
     ]
    },
    {
     "data": {
      "text/plain": [
       "GridSearchCV(cv=5, error_score='raise-deprecating',\n",
       "       estimator=DecisionTreeClassifier(class_weight=None, criterion='gini', max_depth=None,\n",
       "            max_features=None, max_leaf_nodes=None,\n",
       "            min_impurity_decrease=0.0, min_impurity_split=None,\n",
       "            min_samples_leaf=1, min_samples_split=2,\n",
       "            min_weight_fraction_leaf=0.0, presort=False, random_state=None,\n",
       "            splitter='best'),\n",
       "       fit_params=None, iid='warn', n_jobs=None,\n",
       "       param_grid={'max_features': array([1, 2, 3, 4, 5, 6, 7, 8])},\n",
       "       pre_dispatch='2*n_jobs', refit=True, return_train_score='warn',\n",
       "       scoring='neg_log_loss', verbose=0)"
      ]
     },
     "execution_count": 58,
     "metadata": {},
     "output_type": "execute_result"
    }
   ],
   "source": [
    "gridsearch.fit(X_train_fin, y_train_fin)"
   ]
  },
  {
   "cell_type": "code",
   "execution_count": 59,
   "metadata": {},
   "outputs": [
    {
     "data": {
      "text/plain": [
       "[-8.55563741075596,\n",
       " -8.168569225566806,\n",
       " -8.122125911444574,\n",
       " -8.121661160237744,\n",
       " -8.072515850859961,\n",
       " -7.878484519406225,\n",
       " -7.877249313332481,\n",
       " -7.589016513703164]"
      ]
     },
     "execution_count": 59,
     "metadata": {},
     "output_type": "execute_result"
    }
   ],
   "source": [
    "sorted(gridsearch.cv_results_['mean_test_score'])"
   ]
  },
  {
   "cell_type": "code",
   "execution_count": 60,
   "metadata": {},
   "outputs": [],
   "source": [
    "clf_final = DecisionTreeClassifier(max_features=10)"
   ]
  },
  {
   "cell_type": "code",
   "execution_count": 61,
   "metadata": {},
   "outputs": [
    {
     "data": {
      "text/plain": [
       "DecisionTreeClassifier(class_weight=None, criterion='gini', max_depth=None,\n",
       "            max_features=10, max_leaf_nodes=None,\n",
       "            min_impurity_decrease=0.0, min_impurity_split=None,\n",
       "            min_samples_leaf=1, min_samples_split=2,\n",
       "            min_weight_fraction_leaf=0.0, presort=False, random_state=None,\n",
       "            splitter='best')"
      ]
     },
     "execution_count": 61,
     "metadata": {},
     "output_type": "execute_result"
    }
   ],
   "source": [
    "clf_final.fit(X_train_fin, y_train_fin)"
   ]
  },
  {
   "cell_type": "code",
   "execution_count": 62,
   "metadata": {},
   "outputs": [],
   "source": [
    "y_pred_proba = clf_final.predict_proba(X_val)\n",
    "y_pred = clf_final.predict(X_val)"
   ]
  },
  {
   "cell_type": "code",
   "execution_count": 63,
   "metadata": {},
   "outputs": [
    {
     "data": {
      "text/plain": [
       "array([[1., 0.],\n",
       "       [1., 0.],\n",
       "       [1., 0.],\n",
       "       [1., 0.],\n",
       "       [1., 0.],\n",
       "       [1., 0.],\n",
       "       [1., 0.],\n",
       "       [1., 0.],\n",
       "       [0., 1.],\n",
       "       [1., 0.]])"
      ]
     },
     "execution_count": 63,
     "metadata": {},
     "output_type": "execute_result"
    }
   ],
   "source": [
    "clf_final.predict_proba(X_test_imputed_scaled)[:10]"
   ]
  },
  {
   "cell_type": "code",
   "execution_count": 64,
   "metadata": {},
   "outputs": [
    {
     "data": {
      "text/plain": [
       "array([0, 0, 0, 0, 0, 0, 0, 0, 1, 0, 0, 0, 1, 0, 1, 1, 0, 1, 1, 0, 0, 1,\n",
       "       1, 0, 1, 0, 1, 1, 1, 0, 0, 0, 1, 0, 1, 1, 0, 0, 0, 1, 1, 0, 0, 1,\n",
       "       1, 0, 0, 0, 1, 1, 1, 0, 1, 1, 1, 0, 0, 0, 0, 1, 0, 1, 0, 1, 0, 1,\n",
       "       1, 0, 0, 1, 1, 0, 0, 0, 1, 0, 0, 1, 0, 1, 1, 1, 0, 0, 0, 0, 1, 1,\n",
       "       1, 1, 0, 0, 1, 0, 0, 0, 1, 0, 1, 0, 1, 0, 0, 0, 1, 0, 0, 0, 0, 0,\n",
       "       0, 1, 1, 1, 1, 1, 0, 1, 1, 1, 1, 1, 1, 0, 0, 0, 0, 1, 0, 0, 1, 1,\n",
       "       0, 0, 0, 0, 0, 0, 0, 0, 0, 1, 0, 0, 1, 0, 0, 0, 0, 0, 1, 0, 0, 1,\n",
       "       0, 0, 1, 0, 1, 1, 1, 1, 1, 0, 0, 0, 1, 0, 1, 0, 0, 0, 0, 0, 0, 1,\n",
       "       1, 0, 1, 1, 0, 1, 1, 0, 1, 0, 1, 0, 0, 0, 0, 0, 1, 0, 1, 0, 1, 0,\n",
       "       0, 0, 1, 1, 0, 0, 0, 0, 1, 0, 1, 0, 1, 0, 0, 0, 0, 0, 1, 1, 1, 0,\n",
       "       1, 0, 1, 1, 1, 0, 0, 1, 0, 0, 0, 1, 0, 0, 1, 0, 0, 1, 0, 1, 1, 1,\n",
       "       0, 0, 0, 0, 1, 0, 1, 0, 0, 0, 0, 0, 0, 0, 0, 0, 0, 0, 0, 0, 1, 1,\n",
       "       0, 0, 0, 0, 0, 0, 0, 0, 1, 1, 0, 1, 0, 0, 0, 0, 0, 1, 1, 0, 1, 0,\n",
       "       0, 0, 0, 0, 0, 0, 0, 0, 0, 0, 0, 0, 0, 0, 0, 0, 0, 0, 1, 1, 0, 1,\n",
       "       1, 0, 0, 1, 0, 0, 1, 1, 1, 0, 0, 0, 0, 0, 0, 1, 1, 0, 1, 0, 0, 0,\n",
       "       1, 1, 0, 0, 0, 0, 1, 0, 0, 0, 0, 0, 0, 1, 0, 0, 0, 0, 0, 1, 1, 0,\n",
       "       0, 0, 1, 0, 1, 0, 0, 1, 0, 1, 1, 0, 1, 0, 0, 0, 1, 1, 0, 1, 0, 0,\n",
       "       1, 1, 0, 0, 0, 0, 0, 0, 1, 0, 0, 1, 0, 0, 0, 0, 1, 1, 0, 0, 0, 1,\n",
       "       0, 1, 0, 0, 1, 0, 1, 0, 0, 1, 0, 0, 1, 1, 1, 1, 0, 0, 1, 0, 0, 0])"
      ]
     },
     "execution_count": 64,
     "metadata": {},
     "output_type": "execute_result"
    }
   ],
   "source": [
    "predictions = clf_final.predict(X_test_imputed_scaled)\n",
    "predictions"
   ]
  },
  {
   "cell_type": "code",
   "execution_count": 65,
   "metadata": {},
   "outputs": [],
   "source": [
    "submussion = 'PassengerId,Survived\\n'\n",
    "submussion += \"\\n\".join([\"{},{}\".format(pid, prediction) for pid, prediction in zip(test.PassengerId, predictions)])"
   ]
  },
  {
   "cell_type": "code",
   "execution_count": 66,
   "metadata": {},
   "outputs": [],
   "source": [
    "with open('submission.txt', 'w') as file:\n",
    "    file.write(submussion)"
   ]
  },
  {
   "cell_type": "code",
   "execution_count": 67,
   "metadata": {},
   "outputs": [],
   "source": [
    "#дерево решений"
   ]
  },
  {
   "cell_type": "code",
   "execution_count": 68,
   "metadata": {},
   "outputs": [],
   "source": [
    "from sklearn.tree import export_graphviz\n",
    "\n",
    "def get_tree_dot_view(clf, feature_names=None, class_names=None):\n",
    "    print(export_graphviz(clf, out_file=None, filled=True, feature_names=feature_names, class_names=class_names))"
   ]
  },
  {
   "cell_type": "code",
   "execution_count": 69,
   "metadata": {},
   "outputs": [],
   "source": [
    "from sklearn.preprocessing import LabelEncoder\n",
    "le = LabelEncoder()"
   ]
  },
  {
   "cell_type": "code",
   "execution_count": 70,
   "metadata": {},
   "outputs": [],
   "source": [
    "y_val = le.fit_transform(y_val)"
   ]
  },
  {
   "cell_type": "code",
   "execution_count": 71,
   "metadata": {},
   "outputs": [
    {
     "data": {
      "text/plain": [
       "0    107\n",
       "1     72\n",
       "dtype: int64"
      ]
     },
     "execution_count": 71,
     "metadata": {},
     "output_type": "execute_result"
    }
   ],
   "source": [
    "pd.Series(le.inverse_transform(y_val)).value_counts().sort_index()"
   ]
  },
  {
   "cell_type": "code",
   "execution_count": 72,
   "metadata": {},
   "outputs": [],
   "source": [
    "clases = str(0), str(1)"
   ]
  },
  {
   "cell_type": "code",
   "execution_count": 73,
   "metadata": {},
   "outputs": [
    {
     "name": "stdout",
     "output_type": "stream",
     "text": [
      "digraph Tree {\n",
      "node [shape=box, style=\"filled\", color=\"black\"] ;\n",
      "0 [label=\"isMale <= -0.309\\ngini = 0.471\\nsamples = 712\\nvalue = [442, 270]\\nclass = 0\", fillcolor=\"#e5813963\"] ;\n",
      "1 [label=\"Pclass_3 <= -0.103\\ngini = 0.401\\nsamples = 245\\nvalue = [68, 177]\\nclass = 1\", fillcolor=\"#399de59d\"] ;\n",
      "0 -> 1 [labeldistance=2.5, labelangle=45, headlabel=\"True\"] ;\n",
      "2 [label=\"Age <= -2.093\\ngini = 0.101\\nsamples = 131\\nvalue = [7, 124]\\nclass = 1\", fillcolor=\"#399de5f1\"] ;\n",
      "1 -> 2 ;\n",
      "3 [label=\"Parch <= 1.388\\ngini = 0.5\\nsamples = 2\\nvalue = [1, 1]\\nclass = 0\", fillcolor=\"#e5813900\"] ;\n",
      "2 -> 3 ;\n",
      "4 [label=\"gini = 0.0\\nsamples = 1\\nvalue = [0, 1]\\nclass = 1\", fillcolor=\"#399de5ff\"] ;\n",
      "3 -> 4 ;\n",
      "5 [label=\"gini = 0.0\\nsamples = 1\\nvalue = [1, 0]\\nclass = 0\", fillcolor=\"#e58139ff\"] ;\n",
      "3 -> 5 ;\n",
      "6 [label=\"Fare <= -0.122\\ngini = 0.089\\nsamples = 129\\nvalue = [6, 123]\\nclass = 1\", fillcolor=\"#399de5f3\"] ;\n",
      "2 -> 6 ;\n",
      "7 [label=\"Age <= 2.024\\ngini = 0.187\\nsamples = 48\\nvalue = [5, 43]\\nclass = 1\", fillcolor=\"#399de5e1\"] ;\n",
      "6 -> 7 ;\n",
      "8 [label=\"Fare <= -0.126\\ngini = 0.156\\nsamples = 47\\nvalue = [4, 43]\\nclass = 1\", fillcolor=\"#399de5e7\"] ;\n",
      "7 -> 8 ;\n",
      "9 [label=\"Fare <= -0.379\\ngini = 0.105\\nsamples = 36\\nvalue = [2, 34]\\nclass = 1\", fillcolor=\"#399de5f0\"] ;\n",
      "8 -> 9 ;\n",
      "10 [label=\"Fare <= -0.393\\ngini = 0.18\\nsamples = 20\\nvalue = [2, 18]\\nclass = 1\", fillcolor=\"#399de5e3\"] ;\n",
      "9 -> 10 ;\n",
      "11 [label=\"gini = 0.0\\nsamples = 10\\nvalue = [0, 10]\\nclass = 1\", fillcolor=\"#399de5ff\"] ;\n",
      "10 -> 11 ;\n",
      "12 [label=\"Age <= -0.285\\ngini = 0.32\\nsamples = 10\\nvalue = [2, 8]\\nclass = 1\", fillcolor=\"#399de5bf\"] ;\n",
      "10 -> 12 ;\n",
      "13 [label=\"gini = 0.0\\nsamples = 1\\nvalue = [1, 0]\\nclass = 0\", fillcolor=\"#e58139ff\"] ;\n",
      "12 -> 13 ;\n",
      "14 [label=\"Age <= 0.485\\ngini = 0.198\\nsamples = 9\\nvalue = [1, 8]\\nclass = 1\", fillcolor=\"#399de5df\"] ;\n",
      "12 -> 14 ;\n",
      "15 [label=\"gini = 0.0\\nsamples = 6\\nvalue = [0, 6]\\nclass = 1\", fillcolor=\"#399de5ff\"] ;\n",
      "14 -> 15 ;\n",
      "16 [label=\"Age <= 0.716\\ngini = 0.444\\nsamples = 3\\nvalue = [1, 2]\\nclass = 1\", fillcolor=\"#399de57f\"] ;\n",
      "14 -> 16 ;\n",
      "17 [label=\"gini = 0.0\\nsamples = 1\\nvalue = [1, 0]\\nclass = 0\", fillcolor=\"#e58139ff\"] ;\n",
      "16 -> 17 ;\n",
      "18 [label=\"gini = 0.0\\nsamples = 2\\nvalue = [0, 2]\\nclass = 1\", fillcolor=\"#399de5ff\"] ;\n",
      "16 -> 18 ;\n",
      "19 [label=\"gini = 0.0\\nsamples = 16\\nvalue = [0, 16]\\nclass = 1\", fillcolor=\"#399de5ff\"] ;\n",
      "9 -> 19 ;\n",
      "20 [label=\"SibSp <= -0.021\\ngini = 0.298\\nsamples = 11\\nvalue = [2, 9]\\nclass = 1\", fillcolor=\"#399de5c6\"] ;\n",
      "8 -> 20 ;\n",
      "21 [label=\"gini = 0.0\\nsamples = 4\\nvalue = [0, 4]\\nclass = 1\", fillcolor=\"#399de5ff\"] ;\n",
      "20 -> 21 ;\n",
      "22 [label=\"Age <= 1.024\\ngini = 0.408\\nsamples = 7\\nvalue = [2, 5]\\nclass = 1\", fillcolor=\"#399de599\"] ;\n",
      "20 -> 22 ;\n",
      "23 [label=\"Parch <= 0.147\\ngini = 0.278\\nsamples = 6\\nvalue = [1, 5]\\nclass = 1\", fillcolor=\"#399de5cc\"] ;\n",
      "22 -> 23 ;\n",
      "24 [label=\"gini = 0.0\\nsamples = 5\\nvalue = [0, 5]\\nclass = 1\", fillcolor=\"#399de5ff\"] ;\n",
      "23 -> 24 ;\n",
      "25 [label=\"gini = 0.0\\nsamples = 1\\nvalue = [1, 0]\\nclass = 0\", fillcolor=\"#e58139ff\"] ;\n",
      "23 -> 25 ;\n",
      "26 [label=\"gini = 0.0\\nsamples = 1\\nvalue = [1, 0]\\nclass = 0\", fillcolor=\"#e58139ff\"] ;\n",
      "22 -> 26 ;\n",
      "27 [label=\"gini = 0.0\\nsamples = 1\\nvalue = [1, 0]\\nclass = 0\", fillcolor=\"#e58139ff\"] ;\n",
      "7 -> 27 ;\n",
      "28 [label=\"Parch <= 1.388\\ngini = 0.024\\nsamples = 81\\nvalue = [1, 80]\\nclass = 1\", fillcolor=\"#399de5fc\"] ;\n",
      "6 -> 28 ;\n",
      "29 [label=\"gini = 0.0\\nsamples = 67\\nvalue = [0, 67]\\nclass = 1\", fillcolor=\"#399de5ff\"] ;\n",
      "28 -> 29 ;\n",
      "30 [label=\"Fare <= 2.085\\ngini = 0.133\\nsamples = 14\\nvalue = [1, 13]\\nclass = 1\", fillcolor=\"#399de5eb\"] ;\n",
      "28 -> 30 ;\n",
      "31 [label=\"gini = 0.0\\nsamples = 11\\nvalue = [0, 11]\\nclass = 1\", fillcolor=\"#399de5ff\"] ;\n",
      "30 -> 31 ;\n",
      "32 [label=\"Fare <= 3.519\\ngini = 0.444\\nsamples = 3\\nvalue = [1, 2]\\nclass = 1\", fillcolor=\"#399de57f\"] ;\n",
      "30 -> 32 ;\n",
      "33 [label=\"gini = 0.0\\nsamples = 1\\nvalue = [1, 0]\\nclass = 0\", fillcolor=\"#e58139ff\"] ;\n",
      "32 -> 33 ;\n",
      "34 [label=\"gini = 0.0\\nsamples = 2\\nvalue = [0, 2]\\nclass = 1\", fillcolor=\"#399de5ff\"] ;\n",
      "32 -> 34 ;\n",
      "35 [label=\"Fare <= -0.178\\ngini = 0.498\\nsamples = 114\\nvalue = [61, 53]\\nclass = 0\", fillcolor=\"#e5813921\"] ;\n",
      "1 -> 35 ;\n",
      "36 [label=\"Age <= 0.523\\ngini = 0.494\\nsamples = 92\\nvalue = [41, 51]\\nclass = 1\", fillcolor=\"#399de532\"] ;\n",
      "35 -> 36 ;\n",
      "37 [label=\"Fare <= -0.487\\ngini = 0.485\\nsamples = 87\\nvalue = [36, 51]\\nclass = 1\", fillcolor=\"#399de54b\"] ;\n",
      "36 -> 37 ;\n",
      "38 [label=\"Embarked_S <= -0.498\\ngini = 0.418\\nsamples = 37\\nvalue = [11, 26]\\nclass = 1\", fillcolor=\"#399de593\"] ;\n",
      "37 -> 38 ;\n",
      "39 [label=\"Fare <= -0.508\\ngini = 0.308\\nsamples = 21\\nvalue = [4, 17]\\nclass = 1\", fillcolor=\"#399de5c3\"] ;\n",
      "38 -> 39 ;\n",
      "40 [label=\"gini = 0.0\\nsamples = 1\\nvalue = [1, 0]\\nclass = 0\", fillcolor=\"#e58139ff\"] ;\n",
      "39 -> 40 ;\n",
      "41 [label=\"Parch <= 0.768\\ngini = 0.255\\nsamples = 20\\nvalue = [3, 17]\\nclass = 1\", fillcolor=\"#399de5d2\"] ;\n",
      "39 -> 41 ;\n",
      "42 [label=\"Age <= -0.412\\ngini = 0.188\\nsamples = 19\\nvalue = [2, 17]\\nclass = 1\", fillcolor=\"#399de5e1\"] ;\n",
      "41 -> 42 ;\n",
      "43 [label=\"gini = 0.0\\nsamples = 5\\nvalue = [0, 5]\\nclass = 1\", fillcolor=\"#399de5ff\"] ;\n",
      "42 -> 43 ;\n",
      "44 [label=\"Fare <= -0.494\\ngini = 0.245\\nsamples = 14\\nvalue = [2, 12]\\nclass = 1\", fillcolor=\"#399de5d4\"] ;\n",
      "42 -> 44 ;\n",
      "45 [label=\"Embarked_Q <= 1.472\\ngini = 0.444\\nsamples = 3\\nvalue = [1, 2]\\nclass = 1\", fillcolor=\"#399de57f\"] ;\n",
      "44 -> 45 ;\n",
      "46 [label=\"gini = 0.0\\nsamples = 2\\nvalue = [0, 2]\\nclass = 1\", fillcolor=\"#399de5ff\"] ;\n",
      "45 -> 46 ;\n",
      "47 [label=\"gini = 0.0\\nsamples = 1\\nvalue = [1, 0]\\nclass = 0\", fillcolor=\"#e58139ff\"] ;\n",
      "45 -> 47 ;\n",
      "48 [label=\"Fare <= -0.492\\ngini = 0.165\\nsamples = 11\\nvalue = [1, 10]\\nclass = 1\", fillcolor=\"#399de5e6\"] ;\n",
      "44 -> 48 ;\n",
      "49 [label=\"Fare <= -0.493\\ngini = 0.219\\nsamples = 8\\nvalue = [1, 7]\\nclass = 1\", fillcolor=\"#399de5db\"] ;\n",
      "48 -> 49 ;\n",
      "50 [label=\"gini = 0.0\\nsamples = 2\\nvalue = [0, 2]\\nclass = 1\", fillcolor=\"#399de5ff\"] ;\n",
      "49 -> 50 ;\n",
      "51 [label=\"gini = 0.278\\nsamples = 6\\nvalue = [1, 5]\\nclass = 1\", fillcolor=\"#399de5cc\"] ;\n",
      "49 -> 51 ;\n",
      "52 [label=\"gini = 0.0\\nsamples = 3\\nvalue = [0, 3]\\nclass = 1\", fillcolor=\"#399de5ff\"] ;\n",
      "48 -> 52 ;\n",
      "53 [label=\"gini = 0.0\\nsamples = 1\\nvalue = [1, 0]\\nclass = 0\", fillcolor=\"#e58139ff\"] ;\n",
      "41 -> 53 ;\n",
      "54 [label=\"Age <= -0.169\\ngini = 0.492\\nsamples = 16\\nvalue = [7, 9]\\nclass = 1\", fillcolor=\"#399de539\"] ;\n",
      "38 -> 54 ;\n",
      "55 [label=\"Age <= -1.093\\ngini = 0.426\\nsamples = 13\\nvalue = [4, 9]\\nclass = 1\", fillcolor=\"#399de58e\"] ;\n",
      "54 -> 55 ;\n",
      "56 [label=\"gini = 0.0\\nsamples = 1\\nvalue = [1, 0]\\nclass = 0\", fillcolor=\"#e58139ff\"] ;\n",
      "55 -> 56 ;\n",
      "57 [label=\"Age <= -0.323\\ngini = 0.375\\nsamples = 12\\nvalue = [3, 9]\\nclass = 1\", fillcolor=\"#399de5aa\"] ;\n",
      "55 -> 57 ;\n",
      "58 [label=\"Age <= -0.554\\ngini = 0.444\\nsamples = 9\\nvalue = [3, 6]\\nclass = 1\", fillcolor=\"#399de57f\"] ;\n",
      "57 -> 58 ;\n",
      "59 [label=\"Age <= -0.862\\ngini = 0.245\\nsamples = 7\\nvalue = [1, 6]\\nclass = 1\", fillcolor=\"#399de5d4\"] ;\n",
      "58 -> 59 ;\n",
      "60 [label=\"Fare <= -0.495\\ngini = 0.444\\nsamples = 3\\nvalue = [1, 2]\\nclass = 1\", fillcolor=\"#399de57f\"] ;\n",
      "59 -> 60 ;\n",
      "61 [label=\"gini = 0.0\\nsamples = 1\\nvalue = [0, 1]\\nclass = 1\", fillcolor=\"#399de5ff\"] ;\n",
      "60 -> 61 ;\n",
      "62 [label=\"Fare <= -0.49\\ngini = 0.5\\nsamples = 2\\nvalue = [1, 1]\\nclass = 0\", fillcolor=\"#e5813900\"] ;\n",
      "60 -> 62 ;\n",
      "63 [label=\"gini = 0.0\\nsamples = 1\\nvalue = [1, 0]\\nclass = 0\", fillcolor=\"#e58139ff\"] ;\n",
      "62 -> 63 ;\n",
      "64 [label=\"gini = 0.0\\nsamples = 1\\nvalue = [0, 1]\\nclass = 1\", fillcolor=\"#399de5ff\"] ;\n",
      "62 -> 64 ;\n",
      "65 [label=\"gini = 0.0\\nsamples = 4\\nvalue = [0, 4]\\nclass = 1\", fillcolor=\"#399de5ff\"] ;\n",
      "59 -> 65 ;\n",
      "66 [label=\"gini = 0.0\\nsamples = 2\\nvalue = [2, 0]\\nclass = 0\", fillcolor=\"#e58139ff\"] ;\n",
      "58 -> 66 ;\n",
      "67 [label=\"gini = 0.0\\nsamples = 3\\nvalue = [0, 3]\\nclass = 1\", fillcolor=\"#399de5ff\"] ;\n",
      "57 -> 67 ;\n",
      "68 [label=\"gini = 0.0\\nsamples = 3\\nvalue = [3, 0]\\nclass = 0\", fillcolor=\"#e58139ff\"] ;\n",
      "54 -> 68 ;\n",
      "69 [label=\"Fare <= -0.43\\ngini = 0.5\\nsamples = 50\\nvalue = [25, 25]\\nclass = 0\", fillcolor=\"#e5813900\"] ;\n",
      "37 -> 69 ;\n",
      "70 [label=\"Age <= -0.823\\ngini = 0.32\\nsamples = 15\\nvalue = [12, 3]\\nclass = 0\", fillcolor=\"#e58139bf\"] ;\n",
      "69 -> 70 ;\n",
      "71 [label=\"Age <= -1.516\\ngini = 0.444\\nsamples = 3\\nvalue = [1, 2]\\nclass = 1\", fillcolor=\"#399de57f\"] ;\n",
      "70 -> 71 ;\n",
      "72 [label=\"gini = 0.0\\nsamples = 1\\nvalue = [1, 0]\\nclass = 0\", fillcolor=\"#e58139ff\"] ;\n",
      "71 -> 72 ;\n",
      "73 [label=\"gini = 0.0\\nsamples = 2\\nvalue = [0, 2]\\nclass = 1\", fillcolor=\"#399de5ff\"] ;\n",
      "71 -> 73 ;\n",
      "74 [label=\"Age <= 0.062\\ngini = 0.153\\nsamples = 12\\nvalue = [11, 1]\\nclass = 0\", fillcolor=\"#e58139e8\"] ;\n",
      "70 -> 74 ;\n",
      "75 [label=\"gini = 0.0\\nsamples = 11\\nvalue = [11, 0]\\nclass = 0\", fillcolor=\"#e58139ff\"] ;\n",
      "74 -> 75 ;\n",
      "76 [label=\"gini = 0.0\\nsamples = 1\\nvalue = [0, 1]\\nclass = 1\", fillcolor=\"#399de5ff\"] ;\n",
      "74 -> 76 ;\n",
      "77 [label=\"Age <= -1.785\\ngini = 0.467\\nsamples = 35\\nvalue = [13, 22]\\nclass = 1\", fillcolor=\"#399de568\"] ;\n",
      "69 -> 77 ;\n",
      "78 [label=\"SibSp <= 1.794\\ngini = 0.18\\nsamples = 10\\nvalue = [1, 9]\\nclass = 1\", fillcolor=\"#399de5e3\"] ;\n",
      "77 -> 78 ;\n",
      "79 [label=\"gini = 0.0\\nsamples = 9\\nvalue = [0, 9]\\nclass = 1\", fillcolor=\"#399de5ff\"] ;\n",
      "78 -> 79 ;\n",
      "80 [label=\"gini = 0.0\\nsamples = 1\\nvalue = [1, 0]\\nclass = 0\", fillcolor=\"#e58139ff\"] ;\n",
      "78 -> 80 ;\n",
      "81 [label=\"Age <= -0.669\\ngini = 0.499\\nsamples = 25\\nvalue = [12, 13]\\nclass = 1\", fillcolor=\"#399de514\"] ;\n",
      "77 -> 81 ;\n",
      "82 [label=\"Fare <= -0.357\\ngini = 0.219\\nsamples = 8\\nvalue = [7, 1]\\nclass = 0\", fillcolor=\"#e58139db\"] ;\n",
      "81 -> 82 ;\n",
      "83 [label=\"Age <= -1.15\\ngini = 0.444\\nsamples = 3\\nvalue = [2, 1]\\nclass = 0\", fillcolor=\"#e581397f\"] ;\n",
      "82 -> 83 ;\n",
      "84 [label=\"gini = 0.0\\nsamples = 1\\nvalue = [1, 0]\\nclass = 0\", fillcolor=\"#e58139ff\"] ;\n",
      "83 -> 84 ;\n",
      "85 [label=\"Age <= -1.016\\ngini = 0.5\\nsamples = 2\\nvalue = [1, 1]\\nclass = 0\", fillcolor=\"#e5813900\"] ;\n",
      "83 -> 85 ;\n",
      "86 [label=\"gini = 0.0\\nsamples = 1\\nvalue = [0, 1]\\nclass = 1\", fillcolor=\"#399de5ff\"] ;\n",
      "85 -> 86 ;\n",
      "87 [label=\"gini = 0.0\\nsamples = 1\\nvalue = [1, 0]\\nclass = 0\", fillcolor=\"#e58139ff\"] ;\n",
      "85 -> 87 ;\n",
      "88 [label=\"gini = 0.0\\nsamples = 5\\nvalue = [5, 0]\\nclass = 0\", fillcolor=\"#e58139ff\"] ;\n",
      "82 -> 88 ;\n",
      "89 [label=\"Fare <= -0.339\\ngini = 0.415\\nsamples = 17\\nvalue = [5, 12]\\nclass = 1\", fillcolor=\"#399de595\"] ;\n",
      "81 -> 89 ;\n",
      "90 [label=\"SibSp <= -0.021\\ngini = 0.5\\nsamples = 6\\nvalue = [3, 3]\\nclass = 0\", fillcolor=\"#e5813900\"] ;\n",
      "89 -> 90 ;\n",
      "91 [label=\"Embarked_S <= -0.498\\ngini = 0.375\\nsamples = 4\\nvalue = [1, 3]\\nclass = 1\", fillcolor=\"#399de5aa\"] ;\n",
      "90 -> 91 ;\n",
      "92 [label=\"Age <= -0.027\\ngini = 0.5\\nsamples = 2\\nvalue = [1, 1]\\nclass = 0\", fillcolor=\"#e5813900\"] ;\n",
      "91 -> 92 ;\n",
      "93 [label=\"gini = 0.0\\nsamples = 1\\nvalue = [0, 1]\\nclass = 1\", fillcolor=\"#399de5ff\"] ;\n",
      "92 -> 93 ;\n",
      "94 [label=\"gini = 0.0\\nsamples = 1\\nvalue = [1, 0]\\nclass = 0\", fillcolor=\"#e58139ff\"] ;\n",
      "92 -> 94 ;\n",
      "95 [label=\"gini = 0.0\\nsamples = 2\\nvalue = [0, 2]\\nclass = 1\", fillcolor=\"#399de5ff\"] ;\n",
      "91 -> 95 ;\n",
      "96 [label=\"gini = 0.0\\nsamples = 2\\nvalue = [2, 0]\\nclass = 0\", fillcolor=\"#e58139ff\"] ;\n",
      "90 -> 96 ;\n",
      "97 [label=\"Age <= -0.142\\ngini = 0.298\\nsamples = 11\\nvalue = [2, 9]\\nclass = 1\", fillcolor=\"#399de5c6\"] ;\n",
      "89 -> 97 ;\n",
      "98 [label=\"Age <= -0.362\\ngini = 0.5\\nsamples = 2\\nvalue = [1, 1]\\nclass = 0\", fillcolor=\"#e5813900\"] ;\n",
      "97 -> 98 ;\n",
      "99 [label=\"gini = 0.0\\nsamples = 1\\nvalue = [0, 1]\\nclass = 1\", fillcolor=\"#399de5ff\"] ;\n",
      "98 -> 99 ;\n",
      "100 [label=\"gini = 0.0\\nsamples = 1\\nvalue = [1, 0]\\nclass = 0\", fillcolor=\"#e58139ff\"] ;\n",
      "98 -> 100 ;\n",
      "101 [label=\"Age <= 0.05\\ngini = 0.198\\nsamples = 9\\nvalue = [1, 8]\\nclass = 1\", fillcolor=\"#399de5df\"] ;\n",
      "97 -> 101 ;\n",
      "102 [label=\"gini = 0.0\\nsamples = 5\\nvalue = [0, 5]\\nclass = 1\", fillcolor=\"#399de5ff\"] ;\n",
      "101 -> 102 ;\n",
      "103 [label=\"Age <= 0.177\\ngini = 0.375\\nsamples = 4\\nvalue = [1, 3]\\nclass = 1\", fillcolor=\"#399de5aa\"] ;\n",
      "101 -> 103 ;\n",
      "104 [label=\"Fare <= -0.261\\ngini = 0.5\\nsamples = 2\\nvalue = [1, 1]\\nclass = 0\", fillcolor=\"#e5813900\"] ;\n",
      "103 -> 104 ;\n",
      "105 [label=\"gini = 0.0\\nsamples = 1\\nvalue = [1, 0]\\nclass = 0\", fillcolor=\"#e58139ff\"] ;\n",
      "104 -> 105 ;\n",
      "106 [label=\"gini = 0.0\\nsamples = 1\\nvalue = [0, 1]\\nclass = 1\", fillcolor=\"#399de5ff\"] ;\n",
      "104 -> 106 ;\n",
      "107 [label=\"gini = 0.0\\nsamples = 2\\nvalue = [0, 2]\\nclass = 1\", fillcolor=\"#399de5ff\"] ;\n",
      "103 -> 107 ;\n",
      "108 [label=\"gini = 0.0\\nsamples = 5\\nvalue = [5, 0]\\nclass = 0\", fillcolor=\"#e58139ff\"] ;\n",
      "36 -> 108 ;\n",
      "109 [label=\"Fare <= -0.018\\ngini = 0.165\\nsamples = 22\\nvalue = [20, 2]\\nclass = 0\", fillcolor=\"#e58139e6\"] ;\n",
      "35 -> 109 ;\n",
      "110 [label=\"gini = 0.0\\nsamples = 12\\nvalue = [12, 0]\\nclass = 0\", fillcolor=\"#e58139ff\"] ;\n",
      "109 -> 110 ;\n",
      "111 [label=\"Fare <= 0.014\\ngini = 0.32\\nsamples = 10\\nvalue = [8, 2]\\nclass = 0\", fillcolor=\"#e58139bf\"] ;\n",
      "109 -> 111 ;\n",
      "112 [label=\"gini = 0.0\\nsamples = 2\\nvalue = [0, 2]\\nclass = 1\", fillcolor=\"#399de5ff\"] ;\n",
      "111 -> 112 ;\n",
      "113 [label=\"gini = 0.0\\nsamples = 8\\nvalue = [8, 0]\\nclass = 0\", fillcolor=\"#e58139ff\"] ;\n",
      "111 -> 113 ;\n",
      "114 [label=\"Age <= -1.285\\ngini = 0.319\\nsamples = 467\\nvalue = [374, 93]\\nclass = 0\", fillcolor=\"#e58139c0\"] ;\n",
      "0 -> 114 [labeldistance=2.5, labelangle=-45, headlabel=\"False\"] ;\n",
      "115 [label=\"SibSp <= 1.794\\ngini = 0.464\\nsamples = 30\\nvalue = [11, 19]\\nclass = 1\", fillcolor=\"#399de56b\"] ;\n",
      "114 -> 115 ;\n",
      "116 [label=\"Parch <= 0.147\\ngini = 0.1\\nsamples = 19\\nvalue = [1, 18]\\nclass = 1\", fillcolor=\"#399de5f1\"] ;\n",
      "115 -> 116 ;\n",
      "117 [label=\"SibSp <= -0.021\\ngini = 0.5\\nsamples = 2\\nvalue = [1, 1]\\nclass = 0\", fillcolor=\"#e5813900\"] ;\n",
      "116 -> 117 ;\n",
      "118 [label=\"gini = 0.0\\nsamples = 1\\nvalue = [1, 0]\\nclass = 0\", fillcolor=\"#e58139ff\"] ;\n",
      "117 -> 118 ;\n",
      "119 [label=\"gini = 0.0\\nsamples = 1\\nvalue = [0, 1]\\nclass = 1\", fillcolor=\"#399de5ff\"] ;\n",
      "117 -> 119 ;\n",
      "120 [label=\"gini = 0.0\\nsamples = 17\\nvalue = [0, 17]\\nclass = 1\", fillcolor=\"#399de5ff\"] ;\n",
      "116 -> 120 ;\n",
      "121 [label=\"Parch <= 1.388\\ngini = 0.165\\nsamples = 11\\nvalue = [10, 1]\\nclass = 0\", fillcolor=\"#e58139e6\"] ;\n",
      "115 -> 121 ;\n",
      "122 [label=\"gini = 0.0\\nsamples = 7\\nvalue = [7, 0]\\nclass = 0\", fillcolor=\"#e58139ff\"] ;\n",
      "121 -> 122 ;\n",
      "123 [label=\"Age <= -2.016\\ngini = 0.375\\nsamples = 4\\nvalue = [3, 1]\\nclass = 0\", fillcolor=\"#e58139aa\"] ;\n",
      "121 -> 123 ;\n",
      "124 [label=\"gini = 0.0\\nsamples = 1\\nvalue = [0, 1]\\nclass = 1\", fillcolor=\"#399de5ff\"] ;\n",
      "123 -> 124 ;\n",
      "125 [label=\"gini = 0.0\\nsamples = 3\\nvalue = [3, 0]\\nclass = 0\", fillcolor=\"#e58139ff\"] ;\n",
      "123 -> 125 ;\n",
      "126 [label=\"Fare <= -0.12\\ngini = 0.281\\nsamples = 437\\nvalue = [363, 74]\\nclass = 0\", fillcolor=\"#e58139cb\"] ;\n",
      "114 -> 126 ;\n",
      "127 [label=\"Embarked_C <= 0.796\\ngini = 0.187\\nsamples = 316\\nvalue = [283, 33]\\nclass = 0\", fillcolor=\"#e58139e1\"] ;\n",
      "126 -> 127 ;\n",
      "128 [label=\"Age <= 0.216\\ngini = 0.156\\nsamples = 281\\nvalue = [257, 24]\\nclass = 0\", fillcolor=\"#e58139e7\"] ;\n",
      "127 -> 128 ;\n",
      "129 [label=\"Age <= 0.062\\ngini = 0.195\\nsamples = 201\\nvalue = [179, 22]\\nclass = 0\", fillcolor=\"#e58139e0\"] ;\n",
      "128 -> 129 ;\n",
      "130 [label=\"Fare <= -0.427\\ngini = 0.157\\nsamples = 186\\nvalue = [170, 16]\\nclass = 0\", fillcolor=\"#e58139e7\"] ;\n",
      "129 -> 130 ;\n",
      "131 [label=\"Fare <= -0.457\\ngini = 0.188\\nsamples = 143\\nvalue = [128, 15]\\nclass = 0\", fillcolor=\"#e58139e1\"] ;\n",
      "130 -> 131 ;\n",
      "132 [label=\"Fare <= -0.491\\ngini = 0.171\\nsamples = 127\\nvalue = [115, 12]\\nclass = 0\", fillcolor=\"#e58139e4\"] ;\n",
      "131 -> 132 ;\n",
      "133 [label=\"Fare <= -0.492\\ngini = 0.234\\nsamples = 59\\nvalue = [51, 8]\\nclass = 0\", fillcolor=\"#e58139d7\"] ;\n",
      "132 -> 133 ;\n",
      "134 [label=\"Fare <= -0.504\\ngini = 0.142\\nsamples = 39\\nvalue = [36, 3]\\nclass = 0\", fillcolor=\"#e58139ea\"] ;\n",
      "133 -> 134 ;\n",
      "135 [label=\"Fare <= -0.505\\ngini = 0.266\\nsamples = 19\\nvalue = [16, 3]\\nclass = 0\", fillcolor=\"#e58139cf\"] ;\n",
      "134 -> 135 ;\n",
      "136 [label=\"Age <= -0.104\\ngini = 0.198\\nsamples = 18\\nvalue = [16, 2]\\nclass = 0\", fillcolor=\"#e58139df\"] ;\n",
      "135 -> 136 ;\n",
      "137 [label=\"Age <= -0.285\\ngini = 0.32\\nsamples = 10\\nvalue = [8, 2]\\nclass = 0\", fillcolor=\"#e58139bf\"] ;\n",
      "136 -> 137 ;\n",
      "138 [label=\"Fare <= -0.583\\ngini = 0.198\\nsamples = 9\\nvalue = [8, 1]\\nclass = 0\", fillcolor=\"#e58139df\"] ;\n",
      "137 -> 138 ;\n",
      "139 [label=\"Age <= -0.592\\ngini = 0.5\\nsamples = 2\\nvalue = [1, 1]\\nclass = 0\", fillcolor=\"#e5813900\"] ;\n",
      "138 -> 139 ;\n",
      "140 [label=\"gini = 0.0\\nsamples = 1\\nvalue = [1, 0]\\nclass = 0\", fillcolor=\"#e58139ff\"] ;\n",
      "139 -> 140 ;\n",
      "141 [label=\"gini = 0.0\\nsamples = 1\\nvalue = [0, 1]\\nclass = 1\", fillcolor=\"#399de5ff\"] ;\n",
      "139 -> 141 ;\n",
      "142 [label=\"gini = 0.0\\nsamples = 7\\nvalue = [7, 0]\\nclass = 0\", fillcolor=\"#e58139ff\"] ;\n",
      "138 -> 142 ;\n",
      "143 [label=\"gini = 0.0\\nsamples = 1\\nvalue = [0, 1]\\nclass = 1\", fillcolor=\"#399de5ff\"] ;\n",
      "137 -> 143 ;\n",
      "144 [label=\"gini = 0.0\\nsamples = 8\\nvalue = [8, 0]\\nclass = 0\", fillcolor=\"#e58139ff\"] ;\n",
      "136 -> 144 ;\n",
      "145 [label=\"gini = 0.0\\nsamples = 1\\nvalue = [0, 1]\\nclass = 1\", fillcolor=\"#399de5ff\"] ;\n",
      "135 -> 145 ;\n",
      "146 [label=\"gini = 0.0\\nsamples = 20\\nvalue = [20, 0]\\nclass = 0\", fillcolor=\"#e58139ff\"] ;\n",
      "134 -> 146 ;\n",
      "147 [label=\"SibSp <= -0.021\\ngini = 0.375\\nsamples = 20\\nvalue = [15, 5]\\nclass = 0\", fillcolor=\"#e58139aa\"] ;\n",
      "133 -> 147 ;\n",
      "148 [label=\"Age <= -0.785\\ngini = 0.332\\nsamples = 19\\nvalue = [15, 4]\\nclass = 0\", fillcolor=\"#e58139bb\"] ;\n",
      "147 -> 148 ;\n",
      "149 [label=\"gini = 0.0\\nsamples = 4\\nvalue = [4, 0]\\nclass = 0\", fillcolor=\"#e58139ff\"] ;\n",
      "148 -> 149 ;\n",
      "150 [label=\"Age <= -0.631\\ngini = 0.391\\nsamples = 15\\nvalue = [11, 4]\\nclass = 0\", fillcolor=\"#e58139a2\"] ;\n",
      "148 -> 150 ;\n",
      "151 [label=\"Fare <= -0.492\\ngini = 0.5\\nsamples = 2\\nvalue = [1, 1]\\nclass = 0\", fillcolor=\"#e5813900\"] ;\n",
      "150 -> 151 ;\n",
      "152 [label=\"gini = 0.0\\nsamples = 1\\nvalue = [1, 0]\\nclass = 0\", fillcolor=\"#e58139ff\"] ;\n",
      "151 -> 152 ;\n",
      "153 [label=\"gini = 0.0\\nsamples = 1\\nvalue = [0, 1]\\nclass = 1\", fillcolor=\"#399de5ff\"] ;\n",
      "151 -> 153 ;\n",
      "154 [label=\"Fare <= -0.492\\ngini = 0.355\\nsamples = 13\\nvalue = [10, 3]\\nclass = 0\", fillcolor=\"#e58139b3\"] ;\n",
      "150 -> 154 ;\n",
      "155 [label=\"Age <= -0.027\\ngini = 0.42\\nsamples = 10\\nvalue = [7, 3]\\nclass = 0\", fillcolor=\"#e5813992\"] ;\n",
      "154 -> 155 ;\n",
      "156 [label=\"Embarked_S <= -0.498\\ngini = 0.5\\nsamples = 2\\nvalue = [1, 1]\\nclass = 0\", fillcolor=\"#e5813900\"] ;\n",
      "155 -> 156 ;\n",
      "157 [label=\"gini = 0.0\\nsamples = 1\\nvalue = [0, 1]\\nclass = 1\", fillcolor=\"#399de5ff\"] ;\n",
      "156 -> 157 ;\n",
      "158 [label=\"gini = 0.0\\nsamples = 1\\nvalue = [1, 0]\\nclass = 0\", fillcolor=\"#e58139ff\"] ;\n",
      "156 -> 158 ;\n",
      "159 [label=\"Fare <= -0.492\\ngini = 0.375\\nsamples = 8\\nvalue = [6, 2]\\nclass = 0\", fillcolor=\"#e58139aa\"] ;\n",
      "155 -> 159 ;\n",
      "160 [label=\"gini = 0.278\\nsamples = 6\\nvalue = [5, 1]\\nclass = 0\", fillcolor=\"#e58139cc\"] ;\n",
      "159 -> 160 ;\n",
      "161 [label=\"gini = 0.5\\nsamples = 2\\nvalue = [1, 1]\\nclass = 0\", fillcolor=\"#e5813900\"] ;\n",
      "159 -> 161 ;\n",
      "162 [label=\"gini = 0.0\\nsamples = 3\\nvalue = [3, 0]\\nclass = 0\", fillcolor=\"#e58139ff\"] ;\n",
      "154 -> 162 ;\n",
      "163 [label=\"gini = 0.0\\nsamples = 1\\nvalue = [0, 1]\\nclass = 1\", fillcolor=\"#399de5ff\"] ;\n",
      "147 -> 163 ;\n",
      "164 [label=\"Fare <= -0.488\\ngini = 0.111\\nsamples = 68\\nvalue = [64, 4]\\nclass = 0\", fillcolor=\"#e58139ef\"] ;\n",
      "132 -> 164 ;\n",
      "165 [label=\"gini = 0.0\\nsamples = 31\\nvalue = [31, 0]\\nclass = 0\", fillcolor=\"#e58139ff\"] ;\n",
      "164 -> 165 ;\n",
      "166 [label=\"Age <= -0.785\\ngini = 0.193\\nsamples = 37\\nvalue = [33, 4]\\nclass = 0\", fillcolor=\"#e58139e0\"] ;\n",
      "164 -> 166 ;\n",
      "167 [label=\"Age <= -0.939\\ngini = 0.444\\nsamples = 9\\nvalue = [6, 3]\\nclass = 0\", fillcolor=\"#e581397f\"] ;\n",
      "166 -> 167 ;\n",
      "168 [label=\"Fare <= -0.48\\ngini = 0.32\\nsamples = 5\\nvalue = [4, 1]\\nclass = 0\", fillcolor=\"#e58139bf\"] ;\n",
      "167 -> 168 ;\n",
      "169 [label=\"gini = 0.5\\nsamples = 2\\nvalue = [1, 1]\\nclass = 0\", fillcolor=\"#e5813900\"] ;\n",
      "168 -> 169 ;\n",
      "170 [label=\"gini = 0.0\\nsamples = 3\\nvalue = [3, 0]\\nclass = 0\", fillcolor=\"#e58139ff\"] ;\n",
      "168 -> 170 ;\n",
      "171 [label=\"Age <= -0.862\\ngini = 0.5\\nsamples = 4\\nvalue = [2, 2]\\nclass = 0\", fillcolor=\"#e5813900\"] ;\n",
      "167 -> 171 ;\n",
      "172 [label=\"Fare <= -0.484\\ngini = 0.5\\nsamples = 2\\nvalue = [1, 1]\\nclass = 0\", fillcolor=\"#e5813900\"] ;\n",
      "171 -> 172 ;\n",
      "173 [label=\"gini = 0.0\\nsamples = 1\\nvalue = [0, 1]\\nclass = 1\", fillcolor=\"#399de5ff\"] ;\n",
      "172 -> 173 ;\n",
      "174 [label=\"gini = 0.0\\nsamples = 1\\nvalue = [1, 0]\\nclass = 0\", fillcolor=\"#e58139ff\"] ;\n",
      "172 -> 174 ;\n",
      "175 [label=\"Fare <= -0.485\\ngini = 0.5\\nsamples = 2\\nvalue = [1, 1]\\nclass = 0\", fillcolor=\"#e5813900\"] ;\n",
      "171 -> 175 ;\n",
      "176 [label=\"gini = 0.0\\nsamples = 1\\nvalue = [0, 1]\\nclass = 1\", fillcolor=\"#399de5ff\"] ;\n",
      "175 -> 176 ;\n",
      "177 [label=\"gini = 0.0\\nsamples = 1\\nvalue = [1, 0]\\nclass = 0\", fillcolor=\"#e58139ff\"] ;\n",
      "175 -> 177 ;\n",
      "178 [label=\"Fare <= -0.486\\ngini = 0.069\\nsamples = 28\\nvalue = [27, 1]\\nclass = 0\", fillcolor=\"#e58139f6\"] ;\n",
      "166 -> 178 ;\n",
      "179 [label=\"gini = 0.0\\nsamples = 18\\nvalue = [18, 0]\\nclass = 0\", fillcolor=\"#e58139ff\"] ;\n",
      "178 -> 179 ;\n",
      "180 [label=\"Fare <= -0.482\\ngini = 0.18\\nsamples = 10\\nvalue = [9, 1]\\nclass = 0\", fillcolor=\"#e58139e3\"] ;\n",
      "178 -> 180 ;\n",
      "181 [label=\"gini = 0.0\\nsamples = 1\\nvalue = [0, 1]\\nclass = 1\", fillcolor=\"#399de5ff\"] ;\n",
      "180 -> 181 ;\n",
      "182 [label=\"gini = 0.0\\nsamples = 9\\nvalue = [9, 0]\\nclass = 0\", fillcolor=\"#e58139ff\"] ;\n",
      "180 -> 182 ;\n",
      "183 [label=\"Age <= -0.092\\ngini = 0.305\\nsamples = 16\\nvalue = [13, 3]\\nclass = 0\", fillcolor=\"#e58139c4\"] ;\n",
      "131 -> 183 ;\n",
      "184 [label=\"Age <= -0.785\\ngini = 0.153\\nsamples = 12\\nvalue = [11, 1]\\nclass = 0\", fillcolor=\"#e58139e8\"] ;\n",
      "183 -> 184 ;\n",
      "185 [label=\"Pclass_3 <= -0.103\\ngini = 0.375\\nsamples = 4\\nvalue = [3, 1]\\nclass = 0\", fillcolor=\"#e58139aa\"] ;\n",
      "184 -> 185 ;\n",
      "186 [label=\"Age <= -0.939\\ngini = 0.444\\nsamples = 3\\nvalue = [2, 1]\\nclass = 0\", fillcolor=\"#e581397f\"] ;\n",
      "185 -> 186 ;\n",
      "187 [label=\"gini = 0.0\\nsamples = 1\\nvalue = [1, 0]\\nclass = 0\", fillcolor=\"#e58139ff\"] ;\n",
      "186 -> 187 ;\n",
      "188 [label=\"gini = 0.5\\nsamples = 2\\nvalue = [1, 1]\\nclass = 0\", fillcolor=\"#e5813900\"] ;\n",
      "186 -> 188 ;\n",
      "189 [label=\"gini = 0.0\\nsamples = 1\\nvalue = [1, 0]\\nclass = 0\", fillcolor=\"#e58139ff\"] ;\n",
      "185 -> 189 ;\n",
      "190 [label=\"gini = 0.0\\nsamples = 8\\nvalue = [8, 0]\\nclass = 0\", fillcolor=\"#e58139ff\"] ;\n",
      "184 -> 190 ;\n",
      "191 [label=\"Pclass_2 <= 0.725\\ngini = 0.5\\nsamples = 4\\nvalue = [2, 2]\\nclass = 0\", fillcolor=\"#e5813900\"] ;\n",
      "183 -> 191 ;\n",
      "192 [label=\"Age <= -0.027\\ngini = 0.444\\nsamples = 3\\nvalue = [1, 2]\\nclass = 1\", fillcolor=\"#399de57f\"] ;\n",
      "191 -> 192 ;\n",
      "193 [label=\"gini = 0.0\\nsamples = 1\\nvalue = [0, 1]\\nclass = 1\", fillcolor=\"#399de5ff\"] ;\n",
      "192 -> 193 ;\n",
      "194 [label=\"Age <= 0.012\\ngini = 0.5\\nsamples = 2\\nvalue = [1, 1]\\nclass = 0\", fillcolor=\"#e5813900\"] ;\n",
      "192 -> 194 ;\n",
      "195 [label=\"gini = 0.0\\nsamples = 1\\nvalue = [1, 0]\\nclass = 0\", fillcolor=\"#e58139ff\"] ;\n",
      "194 -> 195 ;\n",
      "196 [label=\"gini = 0.0\\nsamples = 1\\nvalue = [0, 1]\\nclass = 1\", fillcolor=\"#399de5ff\"] ;\n",
      "194 -> 196 ;\n",
      "197 [label=\"gini = 0.0\\nsamples = 1\\nvalue = [1, 0]\\nclass = 0\", fillcolor=\"#e58139ff\"] ;\n",
      "191 -> 197 ;\n",
      "198 [label=\"Embarked_S <= -0.498\\ngini = 0.045\\nsamples = 43\\nvalue = [42, 1]\\nclass = 0\", fillcolor=\"#e58139f9\"] ;\n",
      "130 -> 198 ;\n",
      "199 [label=\"SibSp <= 0.886\\ngini = 0.32\\nsamples = 5\\nvalue = [4, 1]\\nclass = 0\", fillcolor=\"#e58139bf\"] ;\n",
      "198 -> 199 ;\n",
      "200 [label=\"gini = 0.0\\nsamples = 4\\nvalue = [4, 0]\\nclass = 0\", fillcolor=\"#e58139ff\"] ;\n",
      "199 -> 200 ;\n",
      "201 [label=\"gini = 0.0\\nsamples = 1\\nvalue = [0, 1]\\nclass = 1\", fillcolor=\"#399de5ff\"] ;\n",
      "199 -> 201 ;\n",
      "202 [label=\"gini = 0.0\\nsamples = 38\\nvalue = [38, 0]\\nclass = 0\", fillcolor=\"#e58139ff\"] ;\n",
      "198 -> 202 ;\n",
      "203 [label=\"Fare <= -0.491\\ngini = 0.48\\nsamples = 15\\nvalue = [9, 6]\\nclass = 0\", fillcolor=\"#e5813955\"] ;\n",
      "129 -> 203 ;\n",
      "204 [label=\"gini = 0.0\\nsamples = 3\\nvalue = [3, 0]\\nclass = 0\", fillcolor=\"#e58139ff\"] ;\n",
      "203 -> 204 ;\n",
      "205 [label=\"Fare <= -0.483\\ngini = 0.5\\nsamples = 12\\nvalue = [6, 6]\\nclass = 0\", fillcolor=\"#e5813900\"] ;\n",
      "203 -> 205 ;\n",
      "206 [label=\"Fare <= -0.49\\ngini = 0.32\\nsamples = 5\\nvalue = [1, 4]\\nclass = 1\", fillcolor=\"#399de5bf\"] ;\n",
      "205 -> 206 ;\n",
      "207 [label=\"gini = 0.0\\nsamples = 1\\nvalue = [0, 1]\\nclass = 1\", fillcolor=\"#399de5ff\"] ;\n",
      "206 -> 207 ;\n",
      "208 [label=\"Fare <= -0.488\\ngini = 0.375\\nsamples = 4\\nvalue = [1, 3]\\nclass = 1\", fillcolor=\"#399de5aa\"] ;\n",
      "206 -> 208 ;\n",
      "209 [label=\"Age <= 0.139\\ngini = 0.444\\nsamples = 3\\nvalue = [1, 2]\\nclass = 1\", fillcolor=\"#399de57f\"] ;\n",
      "208 -> 209 ;\n",
      "210 [label=\"gini = 0.0\\nsamples = 1\\nvalue = [0, 1]\\nclass = 1\", fillcolor=\"#399de5ff\"] ;\n",
      "209 -> 210 ;\n",
      "211 [label=\"gini = 0.5\\nsamples = 2\\nvalue = [1, 1]\\nclass = 0\", fillcolor=\"#e5813900\"] ;\n",
      "209 -> 211 ;\n",
      "212 [label=\"gini = 0.0\\nsamples = 1\\nvalue = [0, 1]\\nclass = 1\", fillcolor=\"#399de5ff\"] ;\n",
      "208 -> 212 ;\n",
      "213 [label=\"Fare <= -0.412\\ngini = 0.408\\nsamples = 7\\nvalue = [5, 2]\\nclass = 0\", fillcolor=\"#e5813999\"] ;\n",
      "205 -> 213 ;\n",
      "214 [label=\"gini = 0.0\\nsamples = 3\\nvalue = [3, 0]\\nclass = 0\", fillcolor=\"#e58139ff\"] ;\n",
      "213 -> 214 ;\n",
      "215 [label=\"SibSp <= -0.021\\ngini = 0.5\\nsamples = 4\\nvalue = [2, 2]\\nclass = 0\", fillcolor=\"#e5813900\"] ;\n",
      "213 -> 215 ;\n",
      "216 [label=\"gini = 0.0\\nsamples = 1\\nvalue = [0, 1]\\nclass = 1\", fillcolor=\"#399de5ff\"] ;\n",
      "215 -> 216 ;\n",
      "217 [label=\"Pclass_3 <= -0.103\\ngini = 0.444\\nsamples = 3\\nvalue = [2, 1]\\nclass = 0\", fillcolor=\"#e581397f\"] ;\n",
      "215 -> 217 ;\n",
      "218 [label=\"Parch <= 0.147\\ngini = 0.5\\nsamples = 2\\nvalue = [1, 1]\\nclass = 0\", fillcolor=\"#e5813900\"] ;\n",
      "217 -> 218 ;\n",
      "219 [label=\"gini = 0.0\\nsamples = 1\\nvalue = [0, 1]\\nclass = 1\", fillcolor=\"#399de5ff\"] ;\n",
      "218 -> 219 ;\n",
      "220 [label=\"gini = 0.0\\nsamples = 1\\nvalue = [1, 0]\\nclass = 0\", fillcolor=\"#e58139ff\"] ;\n",
      "218 -> 220 ;\n",
      "221 [label=\"gini = 0.0\\nsamples = 1\\nvalue = [1, 0]\\nclass = 0\", fillcolor=\"#e58139ff\"] ;\n",
      "217 -> 221 ;\n",
      "222 [label=\"Age <= 0.677\\ngini = 0.049\\nsamples = 80\\nvalue = [78, 2]\\nclass = 0\", fillcolor=\"#e58139f8\"] ;\n",
      "128 -> 222 ;\n",
      "223 [label=\"gini = 0.0\\nsamples = 33\\nvalue = [33, 0]\\nclass = 0\", fillcolor=\"#e58139ff\"] ;\n",
      "222 -> 223 ;\n",
      "224 [label=\"Age <= 0.985\\ngini = 0.081\\nsamples = 47\\nvalue = [45, 2]\\nclass = 0\", fillcolor=\"#e58139f4\"] ;\n",
      "222 -> 224 ;\n",
      "225 [label=\"Pclass_2 <= 0.725\\ngini = 0.219\\nsamples = 16\\nvalue = [14, 2]\\nclass = 0\", fillcolor=\"#e58139db\"] ;\n",
      "224 -> 225 ;\n",
      "226 [label=\"Age <= 0.754\\ngini = 0.142\\nsamples = 13\\nvalue = [12, 1]\\nclass = 0\", fillcolor=\"#e58139ea\"] ;\n",
      "225 -> 226 ;\n",
      "227 [label=\"Fare <= -0.569\\ngini = 0.375\\nsamples = 4\\nvalue = [3, 1]\\nclass = 0\", fillcolor=\"#e58139aa\"] ;\n",
      "226 -> 227 ;\n",
      "228 [label=\"gini = 0.0\\nsamples = 1\\nvalue = [1, 0]\\nclass = 0\", fillcolor=\"#e58139ff\"] ;\n",
      "227 -> 228 ;\n",
      "229 [label=\"Fare <= -0.326\\ngini = 0.444\\nsamples = 3\\nvalue = [2, 1]\\nclass = 0\", fillcolor=\"#e581397f\"] ;\n",
      "227 -> 229 ;\n",
      "230 [label=\"gini = 0.5\\nsamples = 2\\nvalue = [1, 1]\\nclass = 0\", fillcolor=\"#e5813900\"] ;\n",
      "229 -> 230 ;\n",
      "231 [label=\"gini = 0.0\\nsamples = 1\\nvalue = [1, 0]\\nclass = 0\", fillcolor=\"#e58139ff\"] ;\n",
      "229 -> 231 ;\n",
      "232 [label=\"gini = 0.0\\nsamples = 9\\nvalue = [9, 0]\\nclass = 0\", fillcolor=\"#e58139ff\"] ;\n",
      "226 -> 232 ;\n",
      "233 [label=\"Age <= 0.831\\ngini = 0.444\\nsamples = 3\\nvalue = [2, 1]\\nclass = 0\", fillcolor=\"#e581397f\"] ;\n",
      "225 -> 233 ;\n",
      "234 [label=\"gini = 0.0\\nsamples = 1\\nvalue = [1, 0]\\nclass = 0\", fillcolor=\"#e58139ff\"] ;\n",
      "233 -> 234 ;\n",
      "235 [label=\"gini = 0.5\\nsamples = 2\\nvalue = [1, 1]\\nclass = 0\", fillcolor=\"#e5813900\"] ;\n",
      "233 -> 235 ;\n",
      "236 [label=\"gini = 0.0\\nsamples = 31\\nvalue = [31, 0]\\nclass = 0\", fillcolor=\"#e58139ff\"] ;\n",
      "224 -> 236 ;\n",
      "237 [label=\"Fare <= -0.343\\ngini = 0.382\\nsamples = 35\\nvalue = [26, 9]\\nclass = 0\", fillcolor=\"#e58139a7\"] ;\n",
      "127 -> 237 ;\n",
      "238 [label=\"Age <= -0.554\\ngini = 0.278\\nsamples = 30\\nvalue = [25, 5]\\nclass = 0\", fillcolor=\"#e58139cc\"] ;\n",
      "237 -> 238 ;\n",
      "239 [label=\"Age <= -0.939\\ngini = 0.5\\nsamples = 4\\nvalue = [2, 2]\\nclass = 0\", fillcolor=\"#e5813900\"] ;\n",
      "238 -> 239 ;\n",
      "240 [label=\"gini = 0.0\\nsamples = 1\\nvalue = [1, 0]\\nclass = 0\", fillcolor=\"#e58139ff\"] ;\n",
      "239 -> 240 ;\n",
      "241 [label=\"Age <= -0.669\\ngini = 0.444\\nsamples = 3\\nvalue = [1, 2]\\nclass = 1\", fillcolor=\"#399de57f\"] ;\n",
      "239 -> 241 ;\n",
      "242 [label=\"gini = 0.0\\nsamples = 1\\nvalue = [0, 1]\\nclass = 1\", fillcolor=\"#399de5ff\"] ;\n",
      "241 -> 242 ;\n",
      "243 [label=\"Fare <= -0.503\\ngini = 0.5\\nsamples = 2\\nvalue = [1, 1]\\nclass = 0\", fillcolor=\"#e5813900\"] ;\n",
      "241 -> 243 ;\n",
      "244 [label=\"gini = 0.0\\nsamples = 1\\nvalue = [0, 1]\\nclass = 1\", fillcolor=\"#399de5ff\"] ;\n",
      "243 -> 244 ;\n",
      "245 [label=\"gini = 0.0\\nsamples = 1\\nvalue = [1, 0]\\nclass = 0\", fillcolor=\"#e58139ff\"] ;\n",
      "243 -> 245 ;\n",
      "246 [label=\"Fare <= -0.503\\ngini = 0.204\\nsamples = 26\\nvalue = [23, 3]\\nclass = 0\", fillcolor=\"#e58139de\"] ;\n",
      "238 -> 246 ;\n",
      "247 [label=\"gini = 0.0\\nsamples = 7\\nvalue = [7, 0]\\nclass = 0\", fillcolor=\"#e58139ff\"] ;\n",
      "246 -> 247 ;\n",
      "248 [label=\"Fare <= -0.363\\ngini = 0.266\\nsamples = 19\\nvalue = [16, 3]\\nclass = 0\", fillcolor=\"#e58139cf\"] ;\n",
      "246 -> 248 ;\n",
      "249 [label=\"Fare <= -0.379\\ngini = 0.337\\nsamples = 14\\nvalue = [11, 3]\\nclass = 0\", fillcolor=\"#e58139b9\"] ;\n",
      "248 -> 249 ;\n",
      "250 [label=\"Age <= -0.027\\ngini = 0.26\\nsamples = 13\\nvalue = [11, 2]\\nclass = 0\", fillcolor=\"#e58139d1\"] ;\n",
      "249 -> 250 ;\n",
      "251 [label=\"Fare <= -0.496\\ngini = 0.5\\nsamples = 2\\nvalue = [1, 1]\\nclass = 0\", fillcolor=\"#e5813900\"] ;\n",
      "250 -> 251 ;\n",
      "252 [label=\"gini = 0.0\\nsamples = 1\\nvalue = [1, 0]\\nclass = 0\", fillcolor=\"#e58139ff\"] ;\n",
      "251 -> 252 ;\n",
      "253 [label=\"gini = 0.0\\nsamples = 1\\nvalue = [0, 1]\\nclass = 1\", fillcolor=\"#399de5ff\"] ;\n",
      "251 -> 253 ;\n",
      "254 [label=\"Fare <= -0.496\\ngini = 0.165\\nsamples = 11\\nvalue = [10, 1]\\nclass = 0\", fillcolor=\"#e58139e6\"] ;\n",
      "250 -> 254 ;\n",
      "255 [label=\"Age <= 0.012\\ngini = 0.245\\nsamples = 7\\nvalue = [6, 1]\\nclass = 0\", fillcolor=\"#e58139d4\"] ;\n",
      "254 -> 255 ;\n",
      "256 [label=\"gini = 0.278\\nsamples = 6\\nvalue = [5, 1]\\nclass = 0\", fillcolor=\"#e58139cc\"] ;\n",
      "255 -> 256 ;\n",
      "257 [label=\"gini = 0.0\\nsamples = 1\\nvalue = [1, 0]\\nclass = 0\", fillcolor=\"#e58139ff\"] ;\n",
      "255 -> 257 ;\n",
      "258 [label=\"gini = 0.0\\nsamples = 4\\nvalue = [4, 0]\\nclass = 0\", fillcolor=\"#e58139ff\"] ;\n",
      "254 -> 258 ;\n",
      "259 [label=\"gini = 0.0\\nsamples = 1\\nvalue = [0, 1]\\nclass = 1\", fillcolor=\"#399de5ff\"] ;\n",
      "249 -> 259 ;\n",
      "260 [label=\"gini = 0.0\\nsamples = 5\\nvalue = [5, 0]\\nclass = 0\", fillcolor=\"#e58139ff\"] ;\n",
      "248 -> 260 ;\n",
      "261 [label=\"Fare <= -0.241\\ngini = 0.32\\nsamples = 5\\nvalue = [1, 4]\\nclass = 1\", fillcolor=\"#399de5bf\"] ;\n",
      "237 -> 261 ;\n",
      "262 [label=\"gini = 0.0\\nsamples = 4\\nvalue = [0, 4]\\nclass = 1\", fillcolor=\"#399de5ff\"] ;\n",
      "261 -> 262 ;\n",
      "263 [label=\"gini = 0.0\\nsamples = 1\\nvalue = [1, 0]\\nclass = 0\", fillcolor=\"#e58139ff\"] ;\n",
      "261 -> 263 ;\n",
      "264 [label=\"Fare <= -0.109\\ngini = 0.448\\nsamples = 121\\nvalue = [80, 41]\\nclass = 0\", fillcolor=\"#e581397c\"] ;\n",
      "126 -> 264 ;\n",
      "265 [label=\"Age <= 1.832\\ngini = 0.43\\nsamples = 16\\nvalue = [5, 11]\\nclass = 1\", fillcolor=\"#399de58b\"] ;\n",
      "264 -> 265 ;\n",
      "266 [label=\"Age <= 0.165\\ngini = 0.153\\nsamples = 12\\nvalue = [1, 11]\\nclass = 1\", fillcolor=\"#399de5e8\"] ;\n",
      "265 -> 266 ;\n",
      "267 [label=\"Age <= -0.065\\ngini = 0.444\\nsamples = 3\\nvalue = [1, 2]\\nclass = 1\", fillcolor=\"#399de57f\"] ;\n",
      "266 -> 267 ;\n",
      "268 [label=\"gini = 0.0\\nsamples = 1\\nvalue = [0, 1]\\nclass = 1\", fillcolor=\"#399de5ff\"] ;\n",
      "267 -> 268 ;\n",
      "269 [label=\"gini = 0.5\\nsamples = 2\\nvalue = [1, 1]\\nclass = 0\", fillcolor=\"#e5813900\"] ;\n",
      "267 -> 269 ;\n",
      "270 [label=\"gini = 0.0\\nsamples = 9\\nvalue = [0, 9]\\nclass = 1\", fillcolor=\"#399de5ff\"] ;\n",
      "266 -> 270 ;\n",
      "271 [label=\"gini = 0.0\\nsamples = 4\\nvalue = [4, 0]\\nclass = 0\", fillcolor=\"#e58139ff\"] ;\n",
      "265 -> 271 ;\n",
      "272 [label=\"Fare <= 7.157\\ngini = 0.408\\nsamples = 105\\nvalue = [75, 30]\\nclass = 0\", fillcolor=\"#e5813999\"] ;\n",
      "264 -> 272 ;\n",
      "273 [label=\"Pclass_2 <= 0.725\\ngini = 0.396\\nsamples = 103\\nvalue = [75, 28]\\nclass = 0\", fillcolor=\"#e58139a0\"] ;\n",
      "272 -> 273 ;\n",
      "274 [label=\"SibSp <= 1.794\\ngini = 0.421\\nsamples = 93\\nvalue = [65, 28]\\nclass = 0\", fillcolor=\"#e5813991\"] ;\n",
      "273 -> 274 ;\n",
      "275 [label=\"Age <= 1.793\\ngini = 0.442\\nsamples = 85\\nvalue = [57, 28]\\nclass = 0\", fillcolor=\"#e5813982\"] ;\n",
      "274 -> 275 ;\n",
      "276 [label=\"Age <= 1.37\\ngini = 0.469\\nsamples = 72\\nvalue = [45, 27]\\nclass = 0\", fillcolor=\"#e5813966\"] ;\n",
      "275 -> 276 ;\n",
      "277 [label=\"Fare <= 1.833\\ngini = 0.451\\nsamples = 61\\nvalue = [40, 21]\\nclass = 0\", fillcolor=\"#e5813979\"] ;\n",
      "276 -> 277 ;\n",
      "278 [label=\"Age <= 1.024\\ngini = 0.472\\nsamples = 55\\nvalue = [34, 21]\\nclass = 0\", fillcolor=\"#e5813961\"] ;\n",
      "277 -> 278 ;\n",
      "279 [label=\"Fare <= 0.404\\ngini = 0.49\\nsamples = 49\\nvalue = [28, 21]\\nclass = 0\", fillcolor=\"#e5813940\"] ;\n",
      "278 -> 279 ;\n",
      "280 [label=\"Fare <= 0.108\\ngini = 0.417\\nsamples = 27\\nvalue = [19, 8]\\nclass = 0\", fillcolor=\"#e5813994\"] ;\n",
      "279 -> 280 ;\n",
      "281 [label=\"Fare <= -0.07\\ngini = 0.494\\nsamples = 18\\nvalue = [10, 8]\\nclass = 0\", fillcolor=\"#e5813933\"] ;\n",
      "280 -> 281 ;\n",
      "282 [label=\"gini = 0.0\\nsamples = 4\\nvalue = [4, 0]\\nclass = 0\", fillcolor=\"#e58139ff\"] ;\n",
      "281 -> 282 ;\n",
      "283 [label=\"Parch <= 0.147\\ngini = 0.49\\nsamples = 14\\nvalue = [6, 8]\\nclass = 1\", fillcolor=\"#399de540\"] ;\n",
      "281 -> 283 ;\n",
      "284 [label=\"Age <= -0.092\\ngini = 0.397\\nsamples = 11\\nvalue = [3, 8]\\nclass = 1\", fillcolor=\"#399de59f\"] ;\n",
      "283 -> 284 ;\n",
      "285 [label=\"gini = 0.0\\nsamples = 3\\nvalue = [0, 3]\\nclass = 1\", fillcolor=\"#399de5ff\"] ;\n",
      "284 -> 285 ;\n",
      "286 [label=\"Age <= -0.027\\ngini = 0.469\\nsamples = 8\\nvalue = [3, 5]\\nclass = 1\", fillcolor=\"#399de566\"] ;\n",
      "284 -> 286 ;\n",
      "287 [label=\"gini = 0.0\\nsamples = 1\\nvalue = [1, 0]\\nclass = 0\", fillcolor=\"#e58139ff\"] ;\n",
      "286 -> 287 ;\n",
      "288 [label=\"Age <= 0.089\\ngini = 0.408\\nsamples = 7\\nvalue = [2, 5]\\nclass = 1\", fillcolor=\"#399de599\"] ;\n",
      "286 -> 288 ;\n",
      "289 [label=\"Fare <= -0.037\\ngini = 0.48\\nsamples = 5\\nvalue = [2, 3]\\nclass = 1\", fillcolor=\"#399de555\"] ;\n",
      "288 -> 289 ;\n",
      "290 [label=\"gini = 0.0\\nsamples = 2\\nvalue = [0, 2]\\nclass = 1\", fillcolor=\"#399de5ff\"] ;\n",
      "289 -> 290 ;\n",
      "291 [label=\"Fare <= 0.021\\ngini = 0.444\\nsamples = 3\\nvalue = [2, 1]\\nclass = 0\", fillcolor=\"#e581397f\"] ;\n",
      "289 -> 291 ;\n",
      "292 [label=\"gini = 0.0\\nsamples = 2\\nvalue = [2, 0]\\nclass = 0\", fillcolor=\"#e58139ff\"] ;\n",
      "291 -> 292 ;\n",
      "293 [label=\"gini = 0.0\\nsamples = 1\\nvalue = [0, 1]\\nclass = 1\", fillcolor=\"#399de5ff\"] ;\n",
      "291 -> 293 ;\n",
      "294 [label=\"gini = 0.0\\nsamples = 2\\nvalue = [0, 2]\\nclass = 1\", fillcolor=\"#399de5ff\"] ;\n",
      "288 -> 294 ;\n",
      "295 [label=\"gini = 0.0\\nsamples = 3\\nvalue = [3, 0]\\nclass = 0\", fillcolor=\"#e58139ff\"] ;\n",
      "283 -> 295 ;\n",
      "296 [label=\"gini = 0.0\\nsamples = 9\\nvalue = [9, 0]\\nclass = 0\", fillcolor=\"#e58139ff\"] ;\n",
      "280 -> 296 ;\n",
      "297 [label=\"Age <= -0.592\\ngini = 0.483\\nsamples = 22\\nvalue = [9, 13]\\nclass = 1\", fillcolor=\"#399de54e\"] ;\n",
      "279 -> 297 ;\n",
      "298 [label=\"Fare <= 1.564\\ngini = 0.375\\nsamples = 4\\nvalue = [3, 1]\\nclass = 0\", fillcolor=\"#e58139aa\"] ;\n",
      "297 -> 298 ;\n",
      "299 [label=\"gini = 0.0\\nsamples = 3\\nvalue = [3, 0]\\nclass = 0\", fillcolor=\"#e58139ff\"] ;\n",
      "298 -> 299 ;\n",
      "300 [label=\"gini = 0.0\\nsamples = 1\\nvalue = [0, 1]\\nclass = 1\", fillcolor=\"#399de5ff\"] ;\n",
      "298 -> 300 ;\n",
      "301 [label=\"Fare <= 0.415\\ngini = 0.444\\nsamples = 18\\nvalue = [6, 12]\\nclass = 1\", fillcolor=\"#399de57f\"] ;\n",
      "297 -> 301 ;\n",
      "302 [label=\"gini = 0.0\\nsamples = 2\\nvalue = [0, 2]\\nclass = 1\", fillcolor=\"#399de5ff\"] ;\n",
      "301 -> 302 ;\n",
      "303 [label=\"Fare <= 0.444\\ngini = 0.469\\nsamples = 16\\nvalue = [6, 10]\\nclass = 1\", fillcolor=\"#399de566\"] ;\n",
      "301 -> 303 ;\n",
      "304 [label=\"gini = 0.0\\nsamples = 1\\nvalue = [1, 0]\\nclass = 0\", fillcolor=\"#e58139ff\"] ;\n",
      "303 -> 304 ;\n",
      "305 [label=\"Fare <= 0.66\\ngini = 0.444\\nsamples = 15\\nvalue = [5, 10]\\nclass = 1\", fillcolor=\"#399de57f\"] ;\n",
      "303 -> 305 ;\n",
      "306 [label=\"Age <= -0.208\\ngini = 0.346\\nsamples = 9\\nvalue = [2, 7]\\nclass = 1\", fillcolor=\"#399de5b6\"] ;\n",
      "305 -> 306 ;\n",
      "307 [label=\"gini = 0.0\\nsamples = 3\\nvalue = [0, 3]\\nclass = 1\", fillcolor=\"#399de5ff\"] ;\n",
      "306 -> 307 ;\n",
      "308 [label=\"Age <= -0.065\\ngini = 0.444\\nsamples = 6\\nvalue = [2, 4]\\nclass = 1\", fillcolor=\"#399de57f\"] ;\n",
      "306 -> 308 ;\n",
      "309 [label=\"gini = 0.0\\nsamples = 1\\nvalue = [1, 0]\\nclass = 0\", fillcolor=\"#e58139ff\"] ;\n",
      "308 -> 309 ;\n",
      "310 [label=\"Age <= 0.05\\ngini = 0.32\\nsamples = 5\\nvalue = [1, 4]\\nclass = 1\", fillcolor=\"#399de5bf\"] ;\n",
      "308 -> 310 ;\n",
      "311 [label=\"gini = 0.444\\nsamples = 3\\nvalue = [1, 2]\\nclass = 1\", fillcolor=\"#399de57f\"] ;\n",
      "310 -> 311 ;\n",
      "312 [label=\"gini = 0.0\\nsamples = 2\\nvalue = [0, 2]\\nclass = 1\", fillcolor=\"#399de5ff\"] ;\n",
      "310 -> 312 ;\n",
      "313 [label=\"Fare <= 1.055\\ngini = 0.5\\nsamples = 6\\nvalue = [3, 3]\\nclass = 0\", fillcolor=\"#e5813900\"] ;\n",
      "305 -> 313 ;\n",
      "314 [label=\"Embarked_S <= -0.498\\ngini = 0.375\\nsamples = 4\\nvalue = [3, 1]\\nclass = 0\", fillcolor=\"#e58139aa\"] ;\n",
      "313 -> 314 ;\n",
      "315 [label=\"Age <= -0.323\\ngini = 0.5\\nsamples = 2\\nvalue = [1, 1]\\nclass = 0\", fillcolor=\"#e5813900\"] ;\n",
      "314 -> 315 ;\n",
      "316 [label=\"gini = 0.0\\nsamples = 1\\nvalue = [1, 0]\\nclass = 0\", fillcolor=\"#e58139ff\"] ;\n",
      "315 -> 316 ;\n",
      "317 [label=\"gini = 0.0\\nsamples = 1\\nvalue = [0, 1]\\nclass = 1\", fillcolor=\"#399de5ff\"] ;\n",
      "315 -> 317 ;\n",
      "318 [label=\"gini = 0.0\\nsamples = 2\\nvalue = [2, 0]\\nclass = 0\", fillcolor=\"#e58139ff\"] ;\n",
      "314 -> 318 ;\n",
      "319 [label=\"gini = 0.0\\nsamples = 2\\nvalue = [0, 2]\\nclass = 1\", fillcolor=\"#399de5ff\"] ;\n",
      "313 -> 319 ;\n",
      "320 [label=\"gini = 0.0\\nsamples = 6\\nvalue = [6, 0]\\nclass = 0\", fillcolor=\"#e58139ff\"] ;\n",
      "278 -> 320 ;\n",
      "321 [label=\"gini = 0.0\\nsamples = 6\\nvalue = [6, 0]\\nclass = 0\", fillcolor=\"#e58139ff\"] ;\n",
      "277 -> 321 ;\n",
      "322 [label=\"Age <= 1.524\\ngini = 0.496\\nsamples = 11\\nvalue = [5, 6]\\nclass = 1\", fillcolor=\"#399de52a\"] ;\n",
      "276 -> 322 ;\n",
      "323 [label=\"Fare <= 1.365\\ngini = 0.32\\nsamples = 5\\nvalue = [1, 4]\\nclass = 1\", fillcolor=\"#399de5bf\"] ;\n",
      "322 -> 323 ;\n",
      "324 [label=\"gini = 0.0\\nsamples = 4\\nvalue = [0, 4]\\nclass = 1\", fillcolor=\"#399de5ff\"] ;\n",
      "323 -> 324 ;\n",
      "325 [label=\"gini = 0.0\\nsamples = 1\\nvalue = [1, 0]\\nclass = 0\", fillcolor=\"#e58139ff\"] ;\n",
      "323 -> 325 ;\n",
      "326 [label=\"SibSp <= 0.886\\ngini = 0.444\\nsamples = 6\\nvalue = [4, 2]\\nclass = 0\", fillcolor=\"#e581397f\"] ;\n",
      "322 -> 326 ;\n",
      "327 [label=\"Fare <= 0.221\\ngini = 0.32\\nsamples = 5\\nvalue = [4, 1]\\nclass = 0\", fillcolor=\"#e58139bf\"] ;\n",
      "326 -> 327 ;\n",
      "328 [label=\"gini = 0.0\\nsamples = 1\\nvalue = [0, 1]\\nclass = 1\", fillcolor=\"#399de5ff\"] ;\n",
      "327 -> 328 ;\n",
      "329 [label=\"gini = 0.0\\nsamples = 4\\nvalue = [4, 0]\\nclass = 0\", fillcolor=\"#e58139ff\"] ;\n",
      "327 -> 329 ;\n",
      "330 [label=\"gini = 0.0\\nsamples = 1\\nvalue = [0, 1]\\nclass = 1\", fillcolor=\"#399de5ff\"] ;\n",
      "326 -> 330 ;\n",
      "331 [label=\"Fare <= 0.927\\ngini = 0.142\\nsamples = 13\\nvalue = [12, 1]\\nclass = 0\", fillcolor=\"#e58139ea\"] ;\n",
      "275 -> 331 ;\n",
      "332 [label=\"gini = 0.0\\nsamples = 11\\nvalue = [11, 0]\\nclass = 0\", fillcolor=\"#e58139ff\"] ;\n",
      "331 -> 332 ;\n",
      "333 [label=\"Parch <= 2.63\\ngini = 0.5\\nsamples = 2\\nvalue = [1, 1]\\nclass = 0\", fillcolor=\"#e5813900\"] ;\n",
      "331 -> 333 ;\n",
      "334 [label=\"gini = 0.0\\nsamples = 1\\nvalue = [0, 1]\\nclass = 1\", fillcolor=\"#399de5ff\"] ;\n",
      "333 -> 334 ;\n",
      "335 [label=\"gini = 0.0\\nsamples = 1\\nvalue = [1, 0]\\nclass = 0\", fillcolor=\"#e58139ff\"] ;\n",
      "333 -> 335 ;\n",
      "336 [label=\"gini = 0.0\\nsamples = 8\\nvalue = [8, 0]\\nclass = 0\", fillcolor=\"#e58139ff\"] ;\n",
      "274 -> 336 ;\n",
      "337 [label=\"gini = 0.0\\nsamples = 10\\nvalue = [10, 0]\\nclass = 0\", fillcolor=\"#e58139ff\"] ;\n",
      "273 -> 337 ;\n",
      "338 [label=\"gini = 0.0\\nsamples = 2\\nvalue = [0, 2]\\nclass = 1\", fillcolor=\"#399de5ff\"] ;\n",
      "272 -> 338 ;\n",
      "}\n"
     ]
    }
   ],
   "source": [
    "get_tree_dot_view(clf_final, list(X_train_fin.columns), clases)"
   ]
  },
  {
   "cell_type": "code",
   "execution_count": null,
   "metadata": {},
   "outputs": [],
   "source": []
  }
 ],
 "metadata": {
  "anaconda-cloud": {},
  "kernelspec": {
   "display_name": "Python 3",
   "language": "python",
   "name": "python3"
  },
  "language_info": {
   "codemirror_mode": {
    "name": "ipython",
    "version": 3
   },
   "file_extension": ".py",
   "mimetype": "text/x-python",
   "name": "python",
   "nbconvert_exporter": "python",
   "pygments_lexer": "ipython3",
   "version": "3.6.6"
  }
 },
 "nbformat": 4,
 "nbformat_minor": 2
}
